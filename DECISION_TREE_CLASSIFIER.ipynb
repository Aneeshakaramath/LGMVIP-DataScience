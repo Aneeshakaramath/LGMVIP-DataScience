{
  "nbformat": 4,
  "nbformat_minor": 0,
  "metadata": {
    "colab": {
      "provenance": [],
      "mount_file_id": "10TRRjwFN-kkXEpR7nECDCtn-NW2ZtMJe",
      "authorship_tag": "ABX9TyO9xU8TO2JYAsxOPUFLRH3V",
      "include_colab_link": true
    },
    "kernelspec": {
      "name": "python3",
      "display_name": "Python 3"
    },
    "language_info": {
      "name": "python"
    }
  },
  "cells": [
    {
      "cell_type": "markdown",
      "metadata": {
        "id": "view-in-github",
        "colab_type": "text"
      },
      "source": [
        "<a href=\"https://colab.research.google.com/github/Aneeshakaramath/LGMVIP-DataScience/blob/main/DECISION_TREE_CLASSIFIER.ipynb\" target=\"_parent\"><img src=\"https://colab.research.google.com/assets/colab-badge.svg\" alt=\"Open In Colab\"/></a>"
      ]
    },
    {
      "cell_type": "markdown",
      "source": [
        "**LET'S GROW MORE -VIRTUAL INTERNSHIP 2022**\n",
        "\n",
        " September 2022\n",
        " \n",
        " BY ANEESHA PARVEEN S K"
      ],
      "metadata": {
        "id": "5sjz5iWejlSX"
      }
    },
    {
      "cell_type": "markdown",
      "source": [
        "# **DECISION TREE CLASSIFIER**\n",
        "Decision tree builds classification or regression models in the form of a tree structure. It breaks down a dataset into smaller and smaller subsets while at the same time an associated decision tree is incrementally developed. The final result is a tree with decision nodes and leaf nodes.\n",
        "\n",
        "\n",
        "---\n",
        "\n",
        "\n",
        "![DECISION TREE.jpg](data:image/jpeg;base64,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)\n",
        "\n",
        "\n",
        "\n",
        "---\n",
        "\n"
      ],
      "metadata": {
        "id": "pGjPd_2tjntY"
      }
    },
    {
      "cell_type": "markdown",
      "source": [
        "# IMPORTING THE LIBRARIES"
      ],
      "metadata": {
        "id": "l87RdO0Lo2S-"
      }
    },
    {
      "cell_type": "code",
      "execution_count": 1,
      "metadata": {
        "id": "sFEO8Of4G7C6"
      },
      "outputs": [],
      "source": [
        "import numpy as np\n",
        "import pandas as pd\n",
        "import matplotlib.pyplot as plt \n",
        "import seaborn as sns\n"
      ]
    },
    {
      "cell_type": "code",
      "source": [
        "!pip install scikit-plot"
      ],
      "metadata": {
        "colab": {
          "base_uri": "https://localhost:8080/"
        },
        "id": "cfFayWA-JFw5",
        "outputId": "8d989164-5f33-47f4-ffad-d28169308a10"
      },
      "execution_count": 2,
      "outputs": [
        {
          "output_type": "stream",
          "name": "stdout",
          "text": [
            "Looking in indexes: https://pypi.org/simple, https://us-python.pkg.dev/colab-wheels/public/simple/\n",
            "Collecting scikit-plot\n",
            "  Downloading scikit_plot-0.3.7-py3-none-any.whl (33 kB)\n",
            "Requirement already satisfied: scikit-learn>=0.18 in /usr/local/lib/python3.7/dist-packages (from scikit-plot) (1.0.2)\n",
            "Requirement already satisfied: joblib>=0.10 in /usr/local/lib/python3.7/dist-packages (from scikit-plot) (1.1.0)\n",
            "Requirement already satisfied: scipy>=0.9 in /usr/local/lib/python3.7/dist-packages (from scikit-plot) (1.7.3)\n",
            "Requirement already satisfied: matplotlib>=1.4.0 in /usr/local/lib/python3.7/dist-packages (from scikit-plot) (3.2.2)\n",
            "Requirement already satisfied: pyparsing!=2.0.4,!=2.1.2,!=2.1.6,>=2.0.1 in /usr/local/lib/python3.7/dist-packages (from matplotlib>=1.4.0->scikit-plot) (3.0.9)\n",
            "Requirement already satisfied: cycler>=0.10 in /usr/local/lib/python3.7/dist-packages (from matplotlib>=1.4.0->scikit-plot) (0.11.0)\n",
            "Requirement already satisfied: python-dateutil>=2.1 in /usr/local/lib/python3.7/dist-packages (from matplotlib>=1.4.0->scikit-plot) (2.8.2)\n",
            "Requirement already satisfied: kiwisolver>=1.0.1 in /usr/local/lib/python3.7/dist-packages (from matplotlib>=1.4.0->scikit-plot) (1.4.4)\n",
            "Requirement already satisfied: numpy>=1.11 in /usr/local/lib/python3.7/dist-packages (from matplotlib>=1.4.0->scikit-plot) (1.21.6)\n",
            "Requirement already satisfied: typing-extensions in /usr/local/lib/python3.7/dist-packages (from kiwisolver>=1.0.1->matplotlib>=1.4.0->scikit-plot) (4.1.1)\n",
            "Requirement already satisfied: six>=1.5 in /usr/local/lib/python3.7/dist-packages (from python-dateutil>=2.1->matplotlib>=1.4.0->scikit-plot) (1.15.0)\n",
            "Requirement already satisfied: threadpoolctl>=2.0.0 in /usr/local/lib/python3.7/dist-packages (from scikit-learn>=0.18->scikit-plot) (3.1.0)\n",
            "Installing collected packages: scikit-plot\n",
            "Successfully installed scikit-plot-0.3.7\n"
          ]
        }
      ]
    },
    {
      "cell_type": "code",
      "source": [
        "import scikitplot as skplt"
      ],
      "metadata": {
        "id": "238xIy7ZJPbI"
      },
      "execution_count": 3,
      "outputs": []
    },
    {
      "cell_type": "markdown",
      "source": [
        "# IMPORTING THE DATASET"
      ],
      "metadata": {
        "id": "ghsJhO7bpDgn"
      }
    },
    {
      "cell_type": "code",
      "source": [
        "data= pd.read_csv(\"/content/drive/MyDrive/DATASET/Iris.csv\")"
      ],
      "metadata": {
        "id": "Crh-4T68JX9d"
      },
      "execution_count": 4,
      "outputs": []
    },
    {
      "cell_type": "markdown",
      "source": [
        "# ANALYSING THE DATASET"
      ],
      "metadata": {
        "id": "e-4GmY2mpvEZ"
      }
    },
    {
      "cell_type": "code",
      "source": [
        "data.head()"
      ],
      "metadata": {
        "colab": {
          "base_uri": "https://localhost:8080/",
          "height": 206
        },
        "id": "feml0CRiJpue",
        "outputId": "7c90e613-ea2e-4552-e95d-8069e6843509"
      },
      "execution_count": 5,
      "outputs": [
        {
          "output_type": "execute_result",
          "data": {
            "text/plain": [
              "   Id  SepalLengthCm  SepalWidthCm  PetalLengthCm  PetalWidthCm      Species\n",
              "0   1            5.1           3.5            1.4           0.2  Iris-setosa\n",
              "1   2            4.9           3.0            1.4           0.2  Iris-setosa\n",
              "2   3            4.7           3.2            1.3           0.2  Iris-setosa\n",
              "3   4            4.6           3.1            1.5           0.2  Iris-setosa\n",
              "4   5            5.0           3.6            1.4           0.2  Iris-setosa"
            ],
            "text/html": [
              "\n",
              "  <div id=\"df-ae482c00-d790-49fe-962d-eb41d19dfa1a\">\n",
              "    <div class=\"colab-df-container\">\n",
              "      <div>\n",
              "<style scoped>\n",
              "    .dataframe tbody tr th:only-of-type {\n",
              "        vertical-align: middle;\n",
              "    }\n",
              "\n",
              "    .dataframe tbody tr th {\n",
              "        vertical-align: top;\n",
              "    }\n",
              "\n",
              "    .dataframe thead th {\n",
              "        text-align: right;\n",
              "    }\n",
              "</style>\n",
              "<table border=\"1\" class=\"dataframe\">\n",
              "  <thead>\n",
              "    <tr style=\"text-align: right;\">\n",
              "      <th></th>\n",
              "      <th>Id</th>\n",
              "      <th>SepalLengthCm</th>\n",
              "      <th>SepalWidthCm</th>\n",
              "      <th>PetalLengthCm</th>\n",
              "      <th>PetalWidthCm</th>\n",
              "      <th>Species</th>\n",
              "    </tr>\n",
              "  </thead>\n",
              "  <tbody>\n",
              "    <tr>\n",
              "      <th>0</th>\n",
              "      <td>1</td>\n",
              "      <td>5.1</td>\n",
              "      <td>3.5</td>\n",
              "      <td>1.4</td>\n",
              "      <td>0.2</td>\n",
              "      <td>Iris-setosa</td>\n",
              "    </tr>\n",
              "    <tr>\n",
              "      <th>1</th>\n",
              "      <td>2</td>\n",
              "      <td>4.9</td>\n",
              "      <td>3.0</td>\n",
              "      <td>1.4</td>\n",
              "      <td>0.2</td>\n",
              "      <td>Iris-setosa</td>\n",
              "    </tr>\n",
              "    <tr>\n",
              "      <th>2</th>\n",
              "      <td>3</td>\n",
              "      <td>4.7</td>\n",
              "      <td>3.2</td>\n",
              "      <td>1.3</td>\n",
              "      <td>0.2</td>\n",
              "      <td>Iris-setosa</td>\n",
              "    </tr>\n",
              "    <tr>\n",
              "      <th>3</th>\n",
              "      <td>4</td>\n",
              "      <td>4.6</td>\n",
              "      <td>3.1</td>\n",
              "      <td>1.5</td>\n",
              "      <td>0.2</td>\n",
              "      <td>Iris-setosa</td>\n",
              "    </tr>\n",
              "    <tr>\n",
              "      <th>4</th>\n",
              "      <td>5</td>\n",
              "      <td>5.0</td>\n",
              "      <td>3.6</td>\n",
              "      <td>1.4</td>\n",
              "      <td>0.2</td>\n",
              "      <td>Iris-setosa</td>\n",
              "    </tr>\n",
              "  </tbody>\n",
              "</table>\n",
              "</div>\n",
              "      <button class=\"colab-df-convert\" onclick=\"convertToInteractive('df-ae482c00-d790-49fe-962d-eb41d19dfa1a')\"\n",
              "              title=\"Convert this dataframe to an interactive table.\"\n",
              "              style=\"display:none;\">\n",
              "        \n",
              "  <svg xmlns=\"http://www.w3.org/2000/svg\" height=\"24px\"viewBox=\"0 0 24 24\"\n",
              "       width=\"24px\">\n",
              "    <path d=\"M0 0h24v24H0V0z\" fill=\"none\"/>\n",
              "    <path d=\"M18.56 5.44l.94 2.06.94-2.06 2.06-.94-2.06-.94-.94-2.06-.94 2.06-2.06.94zm-11 1L8.5 8.5l.94-2.06 2.06-.94-2.06-.94L8.5 2.5l-.94 2.06-2.06.94zm10 10l.94 2.06.94-2.06 2.06-.94-2.06-.94-.94-2.06-.94 2.06-2.06.94z\"/><path d=\"M17.41 7.96l-1.37-1.37c-.4-.4-.92-.59-1.43-.59-.52 0-1.04.2-1.43.59L10.3 9.45l-7.72 7.72c-.78.78-.78 2.05 0 2.83L4 21.41c.39.39.9.59 1.41.59.51 0 1.02-.2 1.41-.59l7.78-7.78 2.81-2.81c.8-.78.8-2.07 0-2.86zM5.41 20L4 18.59l7.72-7.72 1.47 1.35L5.41 20z\"/>\n",
              "  </svg>\n",
              "      </button>\n",
              "      \n",
              "  <style>\n",
              "    .colab-df-container {\n",
              "      display:flex;\n",
              "      flex-wrap:wrap;\n",
              "      gap: 12px;\n",
              "    }\n",
              "\n",
              "    .colab-df-convert {\n",
              "      background-color: #E8F0FE;\n",
              "      border: none;\n",
              "      border-radius: 50%;\n",
              "      cursor: pointer;\n",
              "      display: none;\n",
              "      fill: #1967D2;\n",
              "      height: 32px;\n",
              "      padding: 0 0 0 0;\n",
              "      width: 32px;\n",
              "    }\n",
              "\n",
              "    .colab-df-convert:hover {\n",
              "      background-color: #E2EBFA;\n",
              "      box-shadow: 0px 1px 2px rgba(60, 64, 67, 0.3), 0px 1px 3px 1px rgba(60, 64, 67, 0.15);\n",
              "      fill: #174EA6;\n",
              "    }\n",
              "\n",
              "    [theme=dark] .colab-df-convert {\n",
              "      background-color: #3B4455;\n",
              "      fill: #D2E3FC;\n",
              "    }\n",
              "\n",
              "    [theme=dark] .colab-df-convert:hover {\n",
              "      background-color: #434B5C;\n",
              "      box-shadow: 0px 1px 3px 1px rgba(0, 0, 0, 0.15);\n",
              "      filter: drop-shadow(0px 1px 2px rgba(0, 0, 0, 0.3));\n",
              "      fill: #FFFFFF;\n",
              "    }\n",
              "  </style>\n",
              "\n",
              "      <script>\n",
              "        const buttonEl =\n",
              "          document.querySelector('#df-ae482c00-d790-49fe-962d-eb41d19dfa1a button.colab-df-convert');\n",
              "        buttonEl.style.display =\n",
              "          google.colab.kernel.accessAllowed ? 'block' : 'none';\n",
              "\n",
              "        async function convertToInteractive(key) {\n",
              "          const element = document.querySelector('#df-ae482c00-d790-49fe-962d-eb41d19dfa1a');\n",
              "          const dataTable =\n",
              "            await google.colab.kernel.invokeFunction('convertToInteractive',\n",
              "                                                     [key], {});\n",
              "          if (!dataTable) return;\n",
              "\n",
              "          const docLinkHtml = 'Like what you see? Visit the ' +\n",
              "            '<a target=\"_blank\" href=https://colab.research.google.com/notebooks/data_table.ipynb>data table notebook</a>'\n",
              "            + ' to learn more about interactive tables.';\n",
              "          element.innerHTML = '';\n",
              "          dataTable['output_type'] = 'display_data';\n",
              "          await google.colab.output.renderOutput(dataTable, element);\n",
              "          const docLink = document.createElement('div');\n",
              "          docLink.innerHTML = docLinkHtml;\n",
              "          element.appendChild(docLink);\n",
              "        }\n",
              "      </script>\n",
              "    </div>\n",
              "  </div>\n",
              "  "
            ]
          },
          "metadata": {},
          "execution_count": 5
        }
      ]
    },
    {
      "cell_type": "code",
      "source": [
        "data.tail()"
      ],
      "metadata": {
        "colab": {
          "base_uri": "https://localhost:8080/",
          "height": 206
        },
        "id": "EqYXdmLIJpy-",
        "outputId": "b42df086-7268-40b2-e2b4-c4a780799c9f"
      },
      "execution_count": 6,
      "outputs": [
        {
          "output_type": "execute_result",
          "data": {
            "text/plain": [
              "      Id  SepalLengthCm  SepalWidthCm  PetalLengthCm  PetalWidthCm  \\\n",
              "145  146            6.7           3.0            5.2           2.3   \n",
              "146  147            6.3           2.5            5.0           1.9   \n",
              "147  148            6.5           3.0            5.2           2.0   \n",
              "148  149            6.2           3.4            5.4           2.3   \n",
              "149  150            5.9           3.0            5.1           1.8   \n",
              "\n",
              "            Species  \n",
              "145  Iris-virginica  \n",
              "146  Iris-virginica  \n",
              "147  Iris-virginica  \n",
              "148  Iris-virginica  \n",
              "149  Iris-virginica  "
            ],
            "text/html": [
              "\n",
              "  <div id=\"df-2076976a-5373-4c4f-b89a-94b9d9646ec3\">\n",
              "    <div class=\"colab-df-container\">\n",
              "      <div>\n",
              "<style scoped>\n",
              "    .dataframe tbody tr th:only-of-type {\n",
              "        vertical-align: middle;\n",
              "    }\n",
              "\n",
              "    .dataframe tbody tr th {\n",
              "        vertical-align: top;\n",
              "    }\n",
              "\n",
              "    .dataframe thead th {\n",
              "        text-align: right;\n",
              "    }\n",
              "</style>\n",
              "<table border=\"1\" class=\"dataframe\">\n",
              "  <thead>\n",
              "    <tr style=\"text-align: right;\">\n",
              "      <th></th>\n",
              "      <th>Id</th>\n",
              "      <th>SepalLengthCm</th>\n",
              "      <th>SepalWidthCm</th>\n",
              "      <th>PetalLengthCm</th>\n",
              "      <th>PetalWidthCm</th>\n",
              "      <th>Species</th>\n",
              "    </tr>\n",
              "  </thead>\n",
              "  <tbody>\n",
              "    <tr>\n",
              "      <th>145</th>\n",
              "      <td>146</td>\n",
              "      <td>6.7</td>\n",
              "      <td>3.0</td>\n",
              "      <td>5.2</td>\n",
              "      <td>2.3</td>\n",
              "      <td>Iris-virginica</td>\n",
              "    </tr>\n",
              "    <tr>\n",
              "      <th>146</th>\n",
              "      <td>147</td>\n",
              "      <td>6.3</td>\n",
              "      <td>2.5</td>\n",
              "      <td>5.0</td>\n",
              "      <td>1.9</td>\n",
              "      <td>Iris-virginica</td>\n",
              "    </tr>\n",
              "    <tr>\n",
              "      <th>147</th>\n",
              "      <td>148</td>\n",
              "      <td>6.5</td>\n",
              "      <td>3.0</td>\n",
              "      <td>5.2</td>\n",
              "      <td>2.0</td>\n",
              "      <td>Iris-virginica</td>\n",
              "    </tr>\n",
              "    <tr>\n",
              "      <th>148</th>\n",
              "      <td>149</td>\n",
              "      <td>6.2</td>\n",
              "      <td>3.4</td>\n",
              "      <td>5.4</td>\n",
              "      <td>2.3</td>\n",
              "      <td>Iris-virginica</td>\n",
              "    </tr>\n",
              "    <tr>\n",
              "      <th>149</th>\n",
              "      <td>150</td>\n",
              "      <td>5.9</td>\n",
              "      <td>3.0</td>\n",
              "      <td>5.1</td>\n",
              "      <td>1.8</td>\n",
              "      <td>Iris-virginica</td>\n",
              "    </tr>\n",
              "  </tbody>\n",
              "</table>\n",
              "</div>\n",
              "      <button class=\"colab-df-convert\" onclick=\"convertToInteractive('df-2076976a-5373-4c4f-b89a-94b9d9646ec3')\"\n",
              "              title=\"Convert this dataframe to an interactive table.\"\n",
              "              style=\"display:none;\">\n",
              "        \n",
              "  <svg xmlns=\"http://www.w3.org/2000/svg\" height=\"24px\"viewBox=\"0 0 24 24\"\n",
              "       width=\"24px\">\n",
              "    <path d=\"M0 0h24v24H0V0z\" fill=\"none\"/>\n",
              "    <path d=\"M18.56 5.44l.94 2.06.94-2.06 2.06-.94-2.06-.94-.94-2.06-.94 2.06-2.06.94zm-11 1L8.5 8.5l.94-2.06 2.06-.94-2.06-.94L8.5 2.5l-.94 2.06-2.06.94zm10 10l.94 2.06.94-2.06 2.06-.94-2.06-.94-.94-2.06-.94 2.06-2.06.94z\"/><path d=\"M17.41 7.96l-1.37-1.37c-.4-.4-.92-.59-1.43-.59-.52 0-1.04.2-1.43.59L10.3 9.45l-7.72 7.72c-.78.78-.78 2.05 0 2.83L4 21.41c.39.39.9.59 1.41.59.51 0 1.02-.2 1.41-.59l7.78-7.78 2.81-2.81c.8-.78.8-2.07 0-2.86zM5.41 20L4 18.59l7.72-7.72 1.47 1.35L5.41 20z\"/>\n",
              "  </svg>\n",
              "      </button>\n",
              "      \n",
              "  <style>\n",
              "    .colab-df-container {\n",
              "      display:flex;\n",
              "      flex-wrap:wrap;\n",
              "      gap: 12px;\n",
              "    }\n",
              "\n",
              "    .colab-df-convert {\n",
              "      background-color: #E8F0FE;\n",
              "      border: none;\n",
              "      border-radius: 50%;\n",
              "      cursor: pointer;\n",
              "      display: none;\n",
              "      fill: #1967D2;\n",
              "      height: 32px;\n",
              "      padding: 0 0 0 0;\n",
              "      width: 32px;\n",
              "    }\n",
              "\n",
              "    .colab-df-convert:hover {\n",
              "      background-color: #E2EBFA;\n",
              "      box-shadow: 0px 1px 2px rgba(60, 64, 67, 0.3), 0px 1px 3px 1px rgba(60, 64, 67, 0.15);\n",
              "      fill: #174EA6;\n",
              "    }\n",
              "\n",
              "    [theme=dark] .colab-df-convert {\n",
              "      background-color: #3B4455;\n",
              "      fill: #D2E3FC;\n",
              "    }\n",
              "\n",
              "    [theme=dark] .colab-df-convert:hover {\n",
              "      background-color: #434B5C;\n",
              "      box-shadow: 0px 1px 3px 1px rgba(0, 0, 0, 0.15);\n",
              "      filter: drop-shadow(0px 1px 2px rgba(0, 0, 0, 0.3));\n",
              "      fill: #FFFFFF;\n",
              "    }\n",
              "  </style>\n",
              "\n",
              "      <script>\n",
              "        const buttonEl =\n",
              "          document.querySelector('#df-2076976a-5373-4c4f-b89a-94b9d9646ec3 button.colab-df-convert');\n",
              "        buttonEl.style.display =\n",
              "          google.colab.kernel.accessAllowed ? 'block' : 'none';\n",
              "\n",
              "        async function convertToInteractive(key) {\n",
              "          const element = document.querySelector('#df-2076976a-5373-4c4f-b89a-94b9d9646ec3');\n",
              "          const dataTable =\n",
              "            await google.colab.kernel.invokeFunction('convertToInteractive',\n",
              "                                                     [key], {});\n",
              "          if (!dataTable) return;\n",
              "\n",
              "          const docLinkHtml = 'Like what you see? Visit the ' +\n",
              "            '<a target=\"_blank\" href=https://colab.research.google.com/notebooks/data_table.ipynb>data table notebook</a>'\n",
              "            + ' to learn more about interactive tables.';\n",
              "          element.innerHTML = '';\n",
              "          dataTable['output_type'] = 'display_data';\n",
              "          await google.colab.output.renderOutput(dataTable, element);\n",
              "          const docLink = document.createElement('div');\n",
              "          docLink.innerHTML = docLinkHtml;\n",
              "          element.appendChild(docLink);\n",
              "        }\n",
              "      </script>\n",
              "    </div>\n",
              "  </div>\n",
              "  "
            ]
          },
          "metadata": {},
          "execution_count": 6
        }
      ]
    },
    {
      "cell_type": "code",
      "source": [
        "data.drop('Id', axis=1, inplace= True)"
      ],
      "metadata": {
        "id": "TxcZN-WPJp2f"
      },
      "execution_count": 7,
      "outputs": []
    },
    {
      "cell_type": "code",
      "source": [
        "data.shape"
      ],
      "metadata": {
        "colab": {
          "base_uri": "https://localhost:8080/"
        },
        "id": "PChZDTuJKn5L",
        "outputId": "cf4e073f-2e78-4d20-e113-c5c2ab9ff657"
      },
      "execution_count": 8,
      "outputs": [
        {
          "output_type": "execute_result",
          "data": {
            "text/plain": [
              "(150, 5)"
            ]
          },
          "metadata": {},
          "execution_count": 8
        }
      ]
    },
    {
      "cell_type": "code",
      "source": [
        "data.describe()"
      ],
      "metadata": {
        "colab": {
          "base_uri": "https://localhost:8080/",
          "height": 300
        },
        "id": "V1gIDFbnKwe8",
        "outputId": "7ace0503-ddc3-4728-e287-6061bd21ca4c"
      },
      "execution_count": 9,
      "outputs": [
        {
          "output_type": "execute_result",
          "data": {
            "text/plain": [
              "       SepalLengthCm  SepalWidthCm  PetalLengthCm  PetalWidthCm\n",
              "count     150.000000    150.000000     150.000000    150.000000\n",
              "mean        5.843333      3.054000       3.758667      1.198667\n",
              "std         0.828066      0.433594       1.764420      0.763161\n",
              "min         4.300000      2.000000       1.000000      0.100000\n",
              "25%         5.100000      2.800000       1.600000      0.300000\n",
              "50%         5.800000      3.000000       4.350000      1.300000\n",
              "75%         6.400000      3.300000       5.100000      1.800000\n",
              "max         7.900000      4.400000       6.900000      2.500000"
            ],
            "text/html": [
              "\n",
              "  <div id=\"df-e2bf454b-b616-4b49-bf01-14e68de15c18\">\n",
              "    <div class=\"colab-df-container\">\n",
              "      <div>\n",
              "<style scoped>\n",
              "    .dataframe tbody tr th:only-of-type {\n",
              "        vertical-align: middle;\n",
              "    }\n",
              "\n",
              "    .dataframe tbody tr th {\n",
              "        vertical-align: top;\n",
              "    }\n",
              "\n",
              "    .dataframe thead th {\n",
              "        text-align: right;\n",
              "    }\n",
              "</style>\n",
              "<table border=\"1\" class=\"dataframe\">\n",
              "  <thead>\n",
              "    <tr style=\"text-align: right;\">\n",
              "      <th></th>\n",
              "      <th>SepalLengthCm</th>\n",
              "      <th>SepalWidthCm</th>\n",
              "      <th>PetalLengthCm</th>\n",
              "      <th>PetalWidthCm</th>\n",
              "    </tr>\n",
              "  </thead>\n",
              "  <tbody>\n",
              "    <tr>\n",
              "      <th>count</th>\n",
              "      <td>150.000000</td>\n",
              "      <td>150.000000</td>\n",
              "      <td>150.000000</td>\n",
              "      <td>150.000000</td>\n",
              "    </tr>\n",
              "    <tr>\n",
              "      <th>mean</th>\n",
              "      <td>5.843333</td>\n",
              "      <td>3.054000</td>\n",
              "      <td>3.758667</td>\n",
              "      <td>1.198667</td>\n",
              "    </tr>\n",
              "    <tr>\n",
              "      <th>std</th>\n",
              "      <td>0.828066</td>\n",
              "      <td>0.433594</td>\n",
              "      <td>1.764420</td>\n",
              "      <td>0.763161</td>\n",
              "    </tr>\n",
              "    <tr>\n",
              "      <th>min</th>\n",
              "      <td>4.300000</td>\n",
              "      <td>2.000000</td>\n",
              "      <td>1.000000</td>\n",
              "      <td>0.100000</td>\n",
              "    </tr>\n",
              "    <tr>\n",
              "      <th>25%</th>\n",
              "      <td>5.100000</td>\n",
              "      <td>2.800000</td>\n",
              "      <td>1.600000</td>\n",
              "      <td>0.300000</td>\n",
              "    </tr>\n",
              "    <tr>\n",
              "      <th>50%</th>\n",
              "      <td>5.800000</td>\n",
              "      <td>3.000000</td>\n",
              "      <td>4.350000</td>\n",
              "      <td>1.300000</td>\n",
              "    </tr>\n",
              "    <tr>\n",
              "      <th>75%</th>\n",
              "      <td>6.400000</td>\n",
              "      <td>3.300000</td>\n",
              "      <td>5.100000</td>\n",
              "      <td>1.800000</td>\n",
              "    </tr>\n",
              "    <tr>\n",
              "      <th>max</th>\n",
              "      <td>7.900000</td>\n",
              "      <td>4.400000</td>\n",
              "      <td>6.900000</td>\n",
              "      <td>2.500000</td>\n",
              "    </tr>\n",
              "  </tbody>\n",
              "</table>\n",
              "</div>\n",
              "      <button class=\"colab-df-convert\" onclick=\"convertToInteractive('df-e2bf454b-b616-4b49-bf01-14e68de15c18')\"\n",
              "              title=\"Convert this dataframe to an interactive table.\"\n",
              "              style=\"display:none;\">\n",
              "        \n",
              "  <svg xmlns=\"http://www.w3.org/2000/svg\" height=\"24px\"viewBox=\"0 0 24 24\"\n",
              "       width=\"24px\">\n",
              "    <path d=\"M0 0h24v24H0V0z\" fill=\"none\"/>\n",
              "    <path d=\"M18.56 5.44l.94 2.06.94-2.06 2.06-.94-2.06-.94-.94-2.06-.94 2.06-2.06.94zm-11 1L8.5 8.5l.94-2.06 2.06-.94-2.06-.94L8.5 2.5l-.94 2.06-2.06.94zm10 10l.94 2.06.94-2.06 2.06-.94-2.06-.94-.94-2.06-.94 2.06-2.06.94z\"/><path d=\"M17.41 7.96l-1.37-1.37c-.4-.4-.92-.59-1.43-.59-.52 0-1.04.2-1.43.59L10.3 9.45l-7.72 7.72c-.78.78-.78 2.05 0 2.83L4 21.41c.39.39.9.59 1.41.59.51 0 1.02-.2 1.41-.59l7.78-7.78 2.81-2.81c.8-.78.8-2.07 0-2.86zM5.41 20L4 18.59l7.72-7.72 1.47 1.35L5.41 20z\"/>\n",
              "  </svg>\n",
              "      </button>\n",
              "      \n",
              "  <style>\n",
              "    .colab-df-container {\n",
              "      display:flex;\n",
              "      flex-wrap:wrap;\n",
              "      gap: 12px;\n",
              "    }\n",
              "\n",
              "    .colab-df-convert {\n",
              "      background-color: #E8F0FE;\n",
              "      border: none;\n",
              "      border-radius: 50%;\n",
              "      cursor: pointer;\n",
              "      display: none;\n",
              "      fill: #1967D2;\n",
              "      height: 32px;\n",
              "      padding: 0 0 0 0;\n",
              "      width: 32px;\n",
              "    }\n",
              "\n",
              "    .colab-df-convert:hover {\n",
              "      background-color: #E2EBFA;\n",
              "      box-shadow: 0px 1px 2px rgba(60, 64, 67, 0.3), 0px 1px 3px 1px rgba(60, 64, 67, 0.15);\n",
              "      fill: #174EA6;\n",
              "    }\n",
              "\n",
              "    [theme=dark] .colab-df-convert {\n",
              "      background-color: #3B4455;\n",
              "      fill: #D2E3FC;\n",
              "    }\n",
              "\n",
              "    [theme=dark] .colab-df-convert:hover {\n",
              "      background-color: #434B5C;\n",
              "      box-shadow: 0px 1px 3px 1px rgba(0, 0, 0, 0.15);\n",
              "      filter: drop-shadow(0px 1px 2px rgba(0, 0, 0, 0.3));\n",
              "      fill: #FFFFFF;\n",
              "    }\n",
              "  </style>\n",
              "\n",
              "      <script>\n",
              "        const buttonEl =\n",
              "          document.querySelector('#df-e2bf454b-b616-4b49-bf01-14e68de15c18 button.colab-df-convert');\n",
              "        buttonEl.style.display =\n",
              "          google.colab.kernel.accessAllowed ? 'block' : 'none';\n",
              "\n",
              "        async function convertToInteractive(key) {\n",
              "          const element = document.querySelector('#df-e2bf454b-b616-4b49-bf01-14e68de15c18');\n",
              "          const dataTable =\n",
              "            await google.colab.kernel.invokeFunction('convertToInteractive',\n",
              "                                                     [key], {});\n",
              "          if (!dataTable) return;\n",
              "\n",
              "          const docLinkHtml = 'Like what you see? Visit the ' +\n",
              "            '<a target=\"_blank\" href=https://colab.research.google.com/notebooks/data_table.ipynb>data table notebook</a>'\n",
              "            + ' to learn more about interactive tables.';\n",
              "          element.innerHTML = '';\n",
              "          dataTable['output_type'] = 'display_data';\n",
              "          await google.colab.output.renderOutput(dataTable, element);\n",
              "          const docLink = document.createElement('div');\n",
              "          docLink.innerHTML = docLinkHtml;\n",
              "          element.appendChild(docLink);\n",
              "        }\n",
              "      </script>\n",
              "    </div>\n",
              "  </div>\n",
              "  "
            ]
          },
          "metadata": {},
          "execution_count": 9
        }
      ]
    },
    {
      "cell_type": "code",
      "source": [
        "data.columns"
      ],
      "metadata": {
        "colab": {
          "base_uri": "https://localhost:8080/"
        },
        "id": "SLC7KWyUMHSm",
        "outputId": "070221b5-4975-4721-8d00-5dfd4253aada"
      },
      "execution_count": 10,
      "outputs": [
        {
          "output_type": "execute_result",
          "data": {
            "text/plain": [
              "Index(['SepalLengthCm', 'SepalWidthCm', 'PetalLengthCm', 'PetalWidthCm',\n",
              "       'Species'],\n",
              "      dtype='object')"
            ]
          },
          "metadata": {},
          "execution_count": 10
        }
      ]
    },
    {
      "cell_type": "code",
      "source": [
        "data.isnull().sum()"
      ],
      "metadata": {
        "colab": {
          "base_uri": "https://localhost:8080/"
        },
        "id": "uANMFtpQMKnU",
        "outputId": "83812938-a3e7-457c-cfdf-71ff696be92b"
      },
      "execution_count": 11,
      "outputs": [
        {
          "output_type": "execute_result",
          "data": {
            "text/plain": [
              "SepalLengthCm    0\n",
              "SepalWidthCm     0\n",
              "PetalLengthCm    0\n",
              "PetalWidthCm     0\n",
              "Species          0\n",
              "dtype: int64"
            ]
          },
          "metadata": {},
          "execution_count": 11
        }
      ]
    },
    {
      "cell_type": "code",
      "source": [
        "data.nunique()"
      ],
      "metadata": {
        "colab": {
          "base_uri": "https://localhost:8080/"
        },
        "id": "nGSnv08DMXs7",
        "outputId": "11df047a-dd5b-4086-be88-2cbb3e77859a"
      },
      "execution_count": 12,
      "outputs": [
        {
          "output_type": "execute_result",
          "data": {
            "text/plain": [
              "SepalLengthCm    35\n",
              "SepalWidthCm     23\n",
              "PetalLengthCm    43\n",
              "PetalWidthCm     22\n",
              "Species           3\n",
              "dtype: int64"
            ]
          },
          "metadata": {},
          "execution_count": 12
        }
      ]
    },
    {
      "cell_type": "code",
      "source": [
        "data.Species.value_counts()"
      ],
      "metadata": {
        "colab": {
          "base_uri": "https://localhost:8080/"
        },
        "id": "6mmJvTupK-s9",
        "outputId": "0b722fd6-b072-42c5-b618-0e1e3623c77f"
      },
      "execution_count": 13,
      "outputs": [
        {
          "output_type": "execute_result",
          "data": {
            "text/plain": [
              "Iris-setosa        50\n",
              "Iris-versicolor    50\n",
              "Iris-virginica     50\n",
              "Name: Species, dtype: int64"
            ]
          },
          "metadata": {},
          "execution_count": 13
        }
      ]
    },
    {
      "cell_type": "code",
      "source": [
        "data.max()"
      ],
      "metadata": {
        "colab": {
          "base_uri": "https://localhost:8080/"
        },
        "id": "dEWPJg6fM7z-",
        "outputId": "4cbb4098-6914-48c5-9c35-5109118d13a9"
      },
      "execution_count": 14,
      "outputs": [
        {
          "output_type": "execute_result",
          "data": {
            "text/plain": [
              "SepalLengthCm               7.9\n",
              "SepalWidthCm                4.4\n",
              "PetalLengthCm               6.9\n",
              "PetalWidthCm                2.5\n",
              "Species          Iris-virginica\n",
              "dtype: object"
            ]
          },
          "metadata": {},
          "execution_count": 14
        }
      ]
    },
    {
      "cell_type": "code",
      "source": [
        "data.min()"
      ],
      "metadata": {
        "colab": {
          "base_uri": "https://localhost:8080/"
        },
        "id": "xpRtkavTNHkN",
        "outputId": "70f09b83-6418-4449-ca16-2635a540562c"
      },
      "execution_count": 15,
      "outputs": [
        {
          "output_type": "execute_result",
          "data": {
            "text/plain": [
              "SepalLengthCm            4.3\n",
              "SepalWidthCm             2.0\n",
              "PetalLengthCm            1.0\n",
              "PetalWidthCm             0.1\n",
              "Species          Iris-setosa\n",
              "dtype: object"
            ]
          },
          "metadata": {},
          "execution_count": 15
        }
      ]
    },
    {
      "cell_type": "markdown",
      "source": [
        "# VISUALISATION"
      ],
      "metadata": {
        "id": "RmoGhSAZqd9E"
      }
    },
    {
      "cell_type": "code",
      "source": [
        "sns.countplot(y=data.Species ,data= data, palette=\"rocket\")"
      ],
      "metadata": {
        "colab": {
          "base_uri": "https://localhost:8080/",
          "height": 296
        },
        "id": "ucnhaW67NLPh",
        "outputId": "9e781e80-fc27-4275-e106-72475b9c2e52"
      },
      "execution_count": 16,
      "outputs": [
        {
          "output_type": "execute_result",
          "data": {
            "text/plain": [
              "<matplotlib.axes._subplots.AxesSubplot at 0x7fe75123d290>"
            ]
          },
          "metadata": {},
          "execution_count": 16
        },
        {
          "output_type": "display_data",
          "data": {
            "text/plain": [
              "<Figure size 432x288 with 1 Axes>"
            ],
            "image/png": "[encoded data removed]"
          },
          "metadata": {
            "needs_background": "light"
          }
        }
      ]
    },
    {
      "cell_type": "code",
      "source": [
        "data.plot(kind='box',subplots= True, layout=(3,2),figsize=(8,12))"
      ],
      "metadata": {
        "colab": {
          "base_uri": "https://localhost:8080/",
          "height": 560
        },
        "id": "w08D3WutPQbR",
        "outputId": "c69f6ff3-7c18-4c9e-cda2-10690dd46fe1"
      },
      "execution_count": 17,
      "outputs": [
        {
          "output_type": "execute_result",
          "data": {
            "text/plain": [
              "SepalLengthCm       AxesSubplot(0.125,0.657941;0.352273x0.222059)\n",
              "SepalWidthCm     AxesSubplot(0.547727,0.657941;0.352273x0.222059)\n",
              "PetalLengthCm       AxesSubplot(0.125,0.391471;0.352273x0.222059)\n",
              "PetalWidthCm     AxesSubplot(0.547727,0.391471;0.352273x0.222059)\n",
              "dtype: object"
            ]
          },
          "metadata": {},
          "execution_count": 17
        },
        {
          "output_type": "display_data",
          "data": {
            "text/plain": [
              "<Figure size 576x864 with 6 Axes>"
            ],
            "image/png": "[encoded data removed]"
          },
          "metadata": {
            "needs_background": "light"
          }
        }
      ]
    },
    {
      "cell_type": "code",
      "source": [
        "kwargs ={\"color\":\"purple\"}\n",
        "data.hist(figsize=(12,12),**kwargs)\n",
        "plt.show"
      ],
      "metadata": {
        "colab": {
          "base_uri": "https://localhost:8080/",
          "height": 733
        },
        "id": "VHwvjHg1PseR",
        "outputId": "8537bd33-c7f0-45b3-91ce-c7be0702f2de"
      },
      "execution_count": 18,
      "outputs": [
        {
          "output_type": "execute_result",
          "data": {
            "text/plain": [
              "<function matplotlib.pyplot.show(*args, **kw)>"
            ]
          },
          "metadata": {},
          "execution_count": 18
        },
        {
          "output_type": "display_data",
          "data": {
            "text/plain": [
              "<Figure size 864x864 with 4 Axes>"
            ],
            "image/png": "[encoded data removed]"
          },
          "metadata": {
            "needs_background": "light"
          }
        }
      ]
    },
    {
      "cell_type": "code",
      "source": [
        "sns.boxplot(x='Species', y='PetalLengthCm', data=data)\n"
      ],
      "metadata": {
        "colab": {
          "base_uri": "https://localhost:8080/",
          "height": 296
        },
        "id": "-SJ9_ZBtUBp1",
        "outputId": "66ab61b4-dec6-4c58-8ddb-7d27f5b7f34e"
      },
      "execution_count": 19,
      "outputs": [
        {
          "output_type": "execute_result",
          "data": {
            "text/plain": [
              "<matplotlib.axes._subplots.AxesSubplot at 0x7fe7507e3310>"
            ]
          },
          "metadata": {},
          "execution_count": 19
        },
        {
          "output_type": "display_data",
          "data": {
            "text/plain": [
              "<Figure size 432x288 with 1 Axes>"
            ],
            "image/png": "[encoded data removed]"
          },
          "metadata": {
            "needs_background": "light"
          }
        }
      ]
    },
    {
      "cell_type": "code",
      "source": [
        "sns.boxplot(x='Species', y='PetalWidthCm', data=data)\n"
      ],
      "metadata": {
        "colab": {
          "base_uri": "https://localhost:8080/",
          "height": 296
        },
        "id": "AVGc6uPnUmGH",
        "outputId": "c0e052fc-c047-490e-bd7b-2cdd4950a23a"
      },
      "execution_count": 20,
      "outputs": [
        {
          "output_type": "execute_result",
          "data": {
            "text/plain": [
              "<matplotlib.axes._subplots.AxesSubplot at 0x7fe750709950>"
            ]
          },
          "metadata": {},
          "execution_count": 20
        },
        {
          "output_type": "display_data",
          "data": {
            "text/plain": [
              "<Figure size 432x288 with 1 Axes>"
            ],
            "image/png": "[encoded data removed]"
          },
          "metadata": {
            "needs_background": "light"
          }
        }
      ]
    },
    {
      "cell_type": "code",
      "source": [],
      "metadata": {
        "id": "fZIWFobTVTto"
      },
      "execution_count": 20,
      "outputs": []
    },
    {
      "cell_type": "code",
      "source": [
        "sns.boxplot(x='Species', y='SepalLengthCm', data=data)\n"
      ],
      "metadata": {
        "colab": {
          "base_uri": "https://localhost:8080/",
          "height": 296
        },
        "id": "m4Kxma2fUwgh",
        "outputId": "68db524f-8cdc-4350-ed21-143c733f449e"
      },
      "execution_count": 21,
      "outputs": [
        {
          "output_type": "execute_result",
          "data": {
            "text/plain": [
              "<matplotlib.axes._subplots.AxesSubplot at 0x7fe750699a10>"
            ]
          },
          "metadata": {},
          "execution_count": 21
        },
        {
          "output_type": "display_data",
          "data": {
            "text/plain": [
              "<Figure size 432x288 with 1 Axes>"
            ],
            "image/png": "[encoded data removed]"
          },
          "metadata": {
            "needs_background": "light"
          }
        }
      ]
    },
    {
      "cell_type": "code",
      "source": [
        "sns.boxplot(x='Species', y='SepalWidthCm', data=data)"
      ],
      "metadata": {
        "colab": {
          "base_uri": "https://localhost:8080/",
          "height": 299
        },
        "id": "F6IUkIlCODdg",
        "outputId": "0b8a6ad1-7bd0-4c58-c771-331db029c234"
      },
      "execution_count": 22,
      "outputs": [
        {
          "output_type": "execute_result",
          "data": {
            "text/plain": [
              "<matplotlib.axes._subplots.AxesSubplot at 0x7fe7507e14d0>"
            ]
          },
          "metadata": {},
          "execution_count": 22
        },
        {
          "output_type": "display_data",
          "data": {
            "text/plain": [
              "<Figure size 432x288 with 1 Axes>"
            ],
            "image/png": "[encoded data removed]"
          },
          "metadata": {
            "needs_background": "light"
          }
        }
      ]
    },
    {
      "cell_type": "markdown",
      "source": [
        "# DATA PREPROCESSING"
      ],
      "metadata": {
        "id": "kTeHyrVvqrNU"
      }
    },
    {
      "cell_type": "code",
      "source": [
        "data.corr()"
      ],
      "metadata": {
        "colab": {
          "base_uri": "https://localhost:8080/",
          "height": 175
        },
        "id": "DTW67WYIVuUC",
        "outputId": "67e9c1bc-c667-4ab4-9eaa-6cab051471f4"
      },
      "execution_count": 23,
      "outputs": [
        {
          "output_type": "execute_result",
          "data": {
            "text/plain": [
              "               SepalLengthCm  SepalWidthCm  PetalLengthCm  PetalWidthCm\n",
              "SepalLengthCm       1.000000     -0.109369       0.871754      0.817954\n",
              "SepalWidthCm       -0.109369      1.000000      -0.420516     -0.356544\n",
              "PetalLengthCm       0.871754     -0.420516       1.000000      0.962757\n",
              "PetalWidthCm        0.817954     -0.356544       0.962757      1.000000"
            ],
            "text/html": [
              "\n",
              "  <div id=\"df-07765543-a745-4a2c-b3fa-f2be6a84f49a\">\n",
              "    <div class=\"colab-df-container\">\n",
              "      <div>\n",
              "<style scoped>\n",
              "    .dataframe tbody tr th:only-of-type {\n",
              "        vertical-align: middle;\n",
              "    }\n",
              "\n",
              "    .dataframe tbody tr th {\n",
              "        vertical-align: top;\n",
              "    }\n",
              "\n",
              "    .dataframe thead th {\n",
              "        text-align: right;\n",
              "    }\n",
              "</style>\n",
              "<table border=\"1\" class=\"dataframe\">\n",
              "  <thead>\n",
              "    <tr style=\"text-align: right;\">\n",
              "      <th></th>\n",
              "      <th>SepalLengthCm</th>\n",
              "      <th>SepalWidthCm</th>\n",
              "      <th>PetalLengthCm</th>\n",
              "      <th>PetalWidthCm</th>\n",
              "    </tr>\n",
              "  </thead>\n",
              "  <tbody>\n",
              "    <tr>\n",
              "      <th>SepalLengthCm</th>\n",
              "      <td>1.000000</td>\n",
              "      <td>-0.109369</td>\n",
              "      <td>0.871754</td>\n",
              "      <td>0.817954</td>\n",
              "    </tr>\n",
              "    <tr>\n",
              "      <th>SepalWidthCm</th>\n",
              "      <td>-0.109369</td>\n",
              "      <td>1.000000</td>\n",
              "      <td>-0.420516</td>\n",
              "      <td>-0.356544</td>\n",
              "    </tr>\n",
              "    <tr>\n",
              "      <th>PetalLengthCm</th>\n",
              "      <td>0.871754</td>\n",
              "      <td>-0.420516</td>\n",
              "      <td>1.000000</td>\n",
              "      <td>0.962757</td>\n",
              "    </tr>\n",
              "    <tr>\n",
              "      <th>PetalWidthCm</th>\n",
              "      <td>0.817954</td>\n",
              "      <td>-0.356544</td>\n",
              "      <td>0.962757</td>\n",
              "      <td>1.000000</td>\n",
              "    </tr>\n",
              "  </tbody>\n",
              "</table>\n",
              "</div>\n",
              "      <button class=\"colab-df-convert\" onclick=\"convertToInteractive('df-07765543-a745-4a2c-b3fa-f2be6a84f49a')\"\n",
              "              title=\"Convert this dataframe to an interactive table.\"\n",
              "              style=\"display:none;\">\n",
              "        \n",
              "  <svg xmlns=\"http://www.w3.org/2000/svg\" height=\"24px\"viewBox=\"0 0 24 24\"\n",
              "       width=\"24px\">\n",
              "    <path d=\"M0 0h24v24H0V0z\" fill=\"none\"/>\n",
              "    <path d=\"M18.56 5.44l.94 2.06.94-2.06 2.06-.94-2.06-.94-.94-2.06-.94 2.06-2.06.94zm-11 1L8.5 8.5l.94-2.06 2.06-.94-2.06-.94L8.5 2.5l-.94 2.06-2.06.94zm10 10l.94 2.06.94-2.06 2.06-.94-2.06-.94-.94-2.06-.94 2.06-2.06.94z\"/><path d=\"M17.41 7.96l-1.37-1.37c-.4-.4-.92-.59-1.43-.59-.52 0-1.04.2-1.43.59L10.3 9.45l-7.72 7.72c-.78.78-.78 2.05 0 2.83L4 21.41c.39.39.9.59 1.41.59.51 0 1.02-.2 1.41-.59l7.78-7.78 2.81-2.81c.8-.78.8-2.07 0-2.86zM5.41 20L4 18.59l7.72-7.72 1.47 1.35L5.41 20z\"/>\n",
              "  </svg>\n",
              "      </button>\n",
              "      \n",
              "  <style>\n",
              "    .colab-df-container {\n",
              "      display:flex;\n",
              "      flex-wrap:wrap;\n",
              "      gap: 12px;\n",
              "    }\n",
              "\n",
              "    .colab-df-convert {\n",
              "      background-color: #E8F0FE;\n",
              "      border: none;\n",
              "      border-radius: 50%;\n",
              "      cursor: pointer;\n",
              "      display: none;\n",
              "      fill: #1967D2;\n",
              "      height: 32px;\n",
              "      padding: 0 0 0 0;\n",
              "      width: 32px;\n",
              "    }\n",
              "\n",
              "    .colab-df-convert:hover {\n",
              "      background-color: #E2EBFA;\n",
              "      box-shadow: 0px 1px 2px rgba(60, 64, 67, 0.3), 0px 1px 3px 1px rgba(60, 64, 67, 0.15);\n",
              "      fill: #174EA6;\n",
              "    }\n",
              "\n",
              "    [theme=dark] .colab-df-convert {\n",
              "      background-color: #3B4455;\n",
              "      fill: #D2E3FC;\n",
              "    }\n",
              "\n",
              "    [theme=dark] .colab-df-convert:hover {\n",
              "      background-color: #434B5C;\n",
              "      box-shadow: 0px 1px 3px 1px rgba(0, 0, 0, 0.15);\n",
              "      filter: drop-shadow(0px 1px 2px rgba(0, 0, 0, 0.3));\n",
              "      fill: #FFFFFF;\n",
              "    }\n",
              "  </style>\n",
              "\n",
              "      <script>\n",
              "        const buttonEl =\n",
              "          document.querySelector('#df-07765543-a745-4a2c-b3fa-f2be6a84f49a button.colab-df-convert');\n",
              "        buttonEl.style.display =\n",
              "          google.colab.kernel.accessAllowed ? 'block' : 'none';\n",
              "\n",
              "        async function convertToInteractive(key) {\n",
              "          const element = document.querySelector('#df-07765543-a745-4a2c-b3fa-f2be6a84f49a');\n",
              "          const dataTable =\n",
              "            await google.colab.kernel.invokeFunction('convertToInteractive',\n",
              "                                                     [key], {});\n",
              "          if (!dataTable) return;\n",
              "\n",
              "          const docLinkHtml = 'Like what you see? Visit the ' +\n",
              "            '<a target=\"_blank\" href=https://colab.research.google.com/notebooks/data_table.ipynb>data table notebook</a>'\n",
              "            + ' to learn more about interactive tables.';\n",
              "          element.innerHTML = '';\n",
              "          dataTable['output_type'] = 'display_data';\n",
              "          await google.colab.output.renderOutput(dataTable, element);\n",
              "          const docLink = document.createElement('div');\n",
              "          docLink.innerHTML = docLinkHtml;\n",
              "          element.appendChild(docLink);\n",
              "        }\n",
              "      </script>\n",
              "    </div>\n",
              "  </div>\n",
              "  "
            ]
          },
          "metadata": {},
          "execution_count": 23
        }
      ]
    },
    {
      "cell_type": "code",
      "source": [
        "plt.figure(figsize=(10,7))\n",
        "sns.heatmap(data.corr(), annot = True ,cmap ='cubehelix_r')\n",
        "plt.show()"
      ],
      "metadata": {
        "colab": {
          "base_uri": "https://localhost:8080/",
          "height": 432
        },
        "id": "nXNQK3-MVx6M",
        "outputId": "afd63220-3443-4899-bc4a-36d13ff653ea"
      },
      "execution_count": 24,
      "outputs": [
        {
          "output_type": "display_data",
          "data": {
            "text/plain": [
              "<Figure size 720x504 with 2 Axes>"
            ],
            "image/png": "[encoded data removed]"
          },
          "metadata": {
            "needs_background": "light"
          }
        }
      ]
    },
    {
      "cell_type": "markdown",
      "source": [
        "# LABEL ENCODING"
      ],
      "metadata": {
        "id": "m8xilROQq1eV"
      }
    },
    {
      "cell_type": "code",
      "source": [
        "from sklearn.preprocessing import LabelEncoder\n",
        "le= LabelEncoder()"
      ],
      "metadata": {
        "id": "Em5Jn2V-Wlv6"
      },
      "execution_count": 25,
      "outputs": []
    },
    {
      "cell_type": "code",
      "source": [
        "data['Species']= le.fit_transform(data['Species'])\n",
        "data.head()"
      ],
      "metadata": {
        "colab": {
          "base_uri": "https://localhost:8080/",
          "height": 206
        },
        "id": "PiyBJON_XEOB",
        "outputId": "e2753865-054a-4827-c842-888d77fafc8e"
      },
      "execution_count": 26,
      "outputs": [
        {
          "output_type": "execute_result",
          "data": {
            "text/plain": [
              "   SepalLengthCm  SepalWidthCm  PetalLengthCm  PetalWidthCm  Species\n",
              "0            5.1           3.5            1.4           0.2        0\n",
              "1            4.9           3.0            1.4           0.2        0\n",
              "2            4.7           3.2            1.3           0.2        0\n",
              "3            4.6           3.1            1.5           0.2        0\n",
              "4            5.0           3.6            1.4           0.2        0"
            ],
            "text/html": [
              "\n",
              "  <div id=\"df-7cc44abc-85ed-48cc-b430-a44c7a5f5a98\">\n",
              "    <div class=\"colab-df-container\">\n",
              "      <div>\n",
              "<style scoped>\n",
              "    .dataframe tbody tr th:only-of-type {\n",
              "        vertical-align: middle;\n",
              "    }\n",
              "\n",
              "    .dataframe tbody tr th {\n",
              "        vertical-align: top;\n",
              "    }\n",
              "\n",
              "    .dataframe thead th {\n",
              "        text-align: right;\n",
              "    }\n",
              "</style>\n",
              "<table border=\"1\" class=\"dataframe\">\n",
              "  <thead>\n",
              "    <tr style=\"text-align: right;\">\n",
              "      <th></th>\n",
              "      <th>SepalLengthCm</th>\n",
              "      <th>SepalWidthCm</th>\n",
              "      <th>PetalLengthCm</th>\n",
              "      <th>PetalWidthCm</th>\n",
              "      <th>Species</th>\n",
              "    </tr>\n",
              "  </thead>\n",
              "  <tbody>\n",
              "    <tr>\n",
              "      <th>0</th>\n",
              "      <td>5.1</td>\n",
              "      <td>3.5</td>\n",
              "      <td>1.4</td>\n",
              "      <td>0.2</td>\n",
              "      <td>0</td>\n",
              "    </tr>\n",
              "    <tr>\n",
              "      <th>1</th>\n",
              "      <td>4.9</td>\n",
              "      <td>3.0</td>\n",
              "      <td>1.4</td>\n",
              "      <td>0.2</td>\n",
              "      <td>0</td>\n",
              "    </tr>\n",
              "    <tr>\n",
              "      <th>2</th>\n",
              "      <td>4.7</td>\n",
              "      <td>3.2</td>\n",
              "      <td>1.3</td>\n",
              "      <td>0.2</td>\n",
              "      <td>0</td>\n",
              "    </tr>\n",
              "    <tr>\n",
              "      <th>3</th>\n",
              "      <td>4.6</td>\n",
              "      <td>3.1</td>\n",
              "      <td>1.5</td>\n",
              "      <td>0.2</td>\n",
              "      <td>0</td>\n",
              "    </tr>\n",
              "    <tr>\n",
              "      <th>4</th>\n",
              "      <td>5.0</td>\n",
              "      <td>3.6</td>\n",
              "      <td>1.4</td>\n",
              "      <td>0.2</td>\n",
              "      <td>0</td>\n",
              "    </tr>\n",
              "  </tbody>\n",
              "</table>\n",
              "</div>\n",
              "      <button class=\"colab-df-convert\" onclick=\"convertToInteractive('df-7cc44abc-85ed-48cc-b430-a44c7a5f5a98')\"\n",
              "              title=\"Convert this dataframe to an interactive table.\"\n",
              "              style=\"display:none;\">\n",
              "        \n",
              "  <svg xmlns=\"http://www.w3.org/2000/svg\" height=\"24px\"viewBox=\"0 0 24 24\"\n",
              "       width=\"24px\">\n",
              "    <path d=\"M0 0h24v24H0V0z\" fill=\"none\"/>\n",
              "    <path d=\"M18.56 5.44l.94 2.06.94-2.06 2.06-.94-2.06-.94-.94-2.06-.94 2.06-2.06.94zm-11 1L8.5 8.5l.94-2.06 2.06-.94-2.06-.94L8.5 2.5l-.94 2.06-2.06.94zm10 10l.94 2.06.94-2.06 2.06-.94-2.06-.94-.94-2.06-.94 2.06-2.06.94z\"/><path d=\"M17.41 7.96l-1.37-1.37c-.4-.4-.92-.59-1.43-.59-.52 0-1.04.2-1.43.59L10.3 9.45l-7.72 7.72c-.78.78-.78 2.05 0 2.83L4 21.41c.39.39.9.59 1.41.59.51 0 1.02-.2 1.41-.59l7.78-7.78 2.81-2.81c.8-.78.8-2.07 0-2.86zM5.41 20L4 18.59l7.72-7.72 1.47 1.35L5.41 20z\"/>\n",
              "  </svg>\n",
              "      </button>\n",
              "      \n",
              "  <style>\n",
              "    .colab-df-container {\n",
              "      display:flex;\n",
              "      flex-wrap:wrap;\n",
              "      gap: 12px;\n",
              "    }\n",
              "\n",
              "    .colab-df-convert {\n",
              "      background-color: #E8F0FE;\n",
              "      border: none;\n",
              "      border-radius: 50%;\n",
              "      cursor: pointer;\n",
              "      display: none;\n",
              "      fill: #1967D2;\n",
              "      height: 32px;\n",
              "      padding: 0 0 0 0;\n",
              "      width: 32px;\n",
              "    }\n",
              "\n",
              "    .colab-df-convert:hover {\n",
              "      background-color: #E2EBFA;\n",
              "      box-shadow: 0px 1px 2px rgba(60, 64, 67, 0.3), 0px 1px 3px 1px rgba(60, 64, 67, 0.15);\n",
              "      fill: #174EA6;\n",
              "    }\n",
              "\n",
              "    [theme=dark] .colab-df-convert {\n",
              "      background-color: #3B4455;\n",
              "      fill: #D2E3FC;\n",
              "    }\n",
              "\n",
              "    [theme=dark] .colab-df-convert:hover {\n",
              "      background-color: #434B5C;\n",
              "      box-shadow: 0px 1px 3px 1px rgba(0, 0, 0, 0.15);\n",
              "      filter: drop-shadow(0px 1px 2px rgba(0, 0, 0, 0.3));\n",
              "      fill: #FFFFFF;\n",
              "    }\n",
              "  </style>\n",
              "\n",
              "      <script>\n",
              "        const buttonEl =\n",
              "          document.querySelector('#df-7cc44abc-85ed-48cc-b430-a44c7a5f5a98 button.colab-df-convert');\n",
              "        buttonEl.style.display =\n",
              "          google.colab.kernel.accessAllowed ? 'block' : 'none';\n",
              "\n",
              "        async function convertToInteractive(key) {\n",
              "          const element = document.querySelector('#df-7cc44abc-85ed-48cc-b430-a44c7a5f5a98');\n",
              "          const dataTable =\n",
              "            await google.colab.kernel.invokeFunction('convertToInteractive',\n",
              "                                                     [key], {});\n",
              "          if (!dataTable) return;\n",
              "\n",
              "          const docLinkHtml = 'Like what you see? Visit the ' +\n",
              "            '<a target=\"_blank\" href=https://colab.research.google.com/notebooks/data_table.ipynb>data table notebook</a>'\n",
              "            + ' to learn more about interactive tables.';\n",
              "          element.innerHTML = '';\n",
              "          dataTable['output_type'] = 'display_data';\n",
              "          await google.colab.output.renderOutput(dataTable, element);\n",
              "          const docLink = document.createElement('div');\n",
              "          docLink.innerHTML = docLinkHtml;\n",
              "          element.appendChild(docLink);\n",
              "        }\n",
              "      </script>\n",
              "    </div>\n",
              "  </div>\n",
              "  "
            ]
          },
          "metadata": {},
          "execution_count": 26
        }
      ]
    },
    {
      "cell_type": "code",
      "source": [
        "x= data.drop(columns= ['Species'])\n",
        "x.head()"
      ],
      "metadata": {
        "colab": {
          "base_uri": "https://localhost:8080/",
          "height": 206
        },
        "id": "QwIY3JjkXmvW",
        "outputId": "1a7eb6f6-887d-4968-e5da-3625016233ac"
      },
      "execution_count": 27,
      "outputs": [
        {
          "output_type": "execute_result",
          "data": {
            "text/plain": [
              "   SepalLengthCm  SepalWidthCm  PetalLengthCm  PetalWidthCm\n",
              "0            5.1           3.5            1.4           0.2\n",
              "1            4.9           3.0            1.4           0.2\n",
              "2            4.7           3.2            1.3           0.2\n",
              "3            4.6           3.1            1.5           0.2\n",
              "4            5.0           3.6            1.4           0.2"
            ],
            "text/html": [
              "\n",
              "  <div id=\"df-3bff7d26-f0e6-4d9b-ac71-e694b0fdec65\">\n",
              "    <div class=\"colab-df-container\">\n",
              "      <div>\n",
              "<style scoped>\n",
              "    .dataframe tbody tr th:only-of-type {\n",
              "        vertical-align: middle;\n",
              "    }\n",
              "\n",
              "    .dataframe tbody tr th {\n",
              "        vertical-align: top;\n",
              "    }\n",
              "\n",
              "    .dataframe thead th {\n",
              "        text-align: right;\n",
              "    }\n",
              "</style>\n",
              "<table border=\"1\" class=\"dataframe\">\n",
              "  <thead>\n",
              "    <tr style=\"text-align: right;\">\n",
              "      <th></th>\n",
              "      <th>SepalLengthCm</th>\n",
              "      <th>SepalWidthCm</th>\n",
              "      <th>PetalLengthCm</th>\n",
              "      <th>PetalWidthCm</th>\n",
              "    </tr>\n",
              "  </thead>\n",
              "  <tbody>\n",
              "    <tr>\n",
              "      <th>0</th>\n",
              "      <td>5.1</td>\n",
              "      <td>3.5</td>\n",
              "      <td>1.4</td>\n",
              "      <td>0.2</td>\n",
              "    </tr>\n",
              "    <tr>\n",
              "      <th>1</th>\n",
              "      <td>4.9</td>\n",
              "      <td>3.0</td>\n",
              "      <td>1.4</td>\n",
              "      <td>0.2</td>\n",
              "    </tr>\n",
              "    <tr>\n",
              "      <th>2</th>\n",
              "      <td>4.7</td>\n",
              "      <td>3.2</td>\n",
              "      <td>1.3</td>\n",
              "      <td>0.2</td>\n",
              "    </tr>\n",
              "    <tr>\n",
              "      <th>3</th>\n",
              "      <td>4.6</td>\n",
              "      <td>3.1</td>\n",
              "      <td>1.5</td>\n",
              "      <td>0.2</td>\n",
              "    </tr>\n",
              "    <tr>\n",
              "      <th>4</th>\n",
              "      <td>5.0</td>\n",
              "      <td>3.6</td>\n",
              "      <td>1.4</td>\n",
              "      <td>0.2</td>\n",
              "    </tr>\n",
              "  </tbody>\n",
              "</table>\n",
              "</div>\n",
              "      <button class=\"colab-df-convert\" onclick=\"convertToInteractive('df-3bff7d26-f0e6-4d9b-ac71-e694b0fdec65')\"\n",
              "              title=\"Convert this dataframe to an interactive table.\"\n",
              "              style=\"display:none;\">\n",
              "        \n",
              "  <svg xmlns=\"http://www.w3.org/2000/svg\" height=\"24px\"viewBox=\"0 0 24 24\"\n",
              "       width=\"24px\">\n",
              "    <path d=\"M0 0h24v24H0V0z\" fill=\"none\"/>\n",
              "    <path d=\"M18.56 5.44l.94 2.06.94-2.06 2.06-.94-2.06-.94-.94-2.06-.94 2.06-2.06.94zm-11 1L8.5 8.5l.94-2.06 2.06-.94-2.06-.94L8.5 2.5l-.94 2.06-2.06.94zm10 10l.94 2.06.94-2.06 2.06-.94-2.06-.94-.94-2.06-.94 2.06-2.06.94z\"/><path d=\"M17.41 7.96l-1.37-1.37c-.4-.4-.92-.59-1.43-.59-.52 0-1.04.2-1.43.59L10.3 9.45l-7.72 7.72c-.78.78-.78 2.05 0 2.83L4 21.41c.39.39.9.59 1.41.59.51 0 1.02-.2 1.41-.59l7.78-7.78 2.81-2.81c.8-.78.8-2.07 0-2.86zM5.41 20L4 18.59l7.72-7.72 1.47 1.35L5.41 20z\"/>\n",
              "  </svg>\n",
              "      </button>\n",
              "      \n",
              "  <style>\n",
              "    .colab-df-container {\n",
              "      display:flex;\n",
              "      flex-wrap:wrap;\n",
              "      gap: 12px;\n",
              "    }\n",
              "\n",
              "    .colab-df-convert {\n",
              "      background-color: #E8F0FE;\n",
              "      border: none;\n",
              "      border-radius: 50%;\n",
              "      cursor: pointer;\n",
              "      display: none;\n",
              "      fill: #1967D2;\n",
              "      height: 32px;\n",
              "      padding: 0 0 0 0;\n",
              "      width: 32px;\n",
              "    }\n",
              "\n",
              "    .colab-df-convert:hover {\n",
              "      background-color: #E2EBFA;\n",
              "      box-shadow: 0px 1px 2px rgba(60, 64, 67, 0.3), 0px 1px 3px 1px rgba(60, 64, 67, 0.15);\n",
              "      fill: #174EA6;\n",
              "    }\n",
              "\n",
              "    [theme=dark] .colab-df-convert {\n",
              "      background-color: #3B4455;\n",
              "      fill: #D2E3FC;\n",
              "    }\n",
              "\n",
              "    [theme=dark] .colab-df-convert:hover {\n",
              "      background-color: #434B5C;\n",
              "      box-shadow: 0px 1px 3px 1px rgba(0, 0, 0, 0.15);\n",
              "      filter: drop-shadow(0px 1px 2px rgba(0, 0, 0, 0.3));\n",
              "      fill: #FFFFFF;\n",
              "    }\n",
              "  </style>\n",
              "\n",
              "      <script>\n",
              "        const buttonEl =\n",
              "          document.querySelector('#df-3bff7d26-f0e6-4d9b-ac71-e694b0fdec65 button.colab-df-convert');\n",
              "        buttonEl.style.display =\n",
              "          google.colab.kernel.accessAllowed ? 'block' : 'none';\n",
              "\n",
              "        async function convertToInteractive(key) {\n",
              "          const element = document.querySelector('#df-3bff7d26-f0e6-4d9b-ac71-e694b0fdec65');\n",
              "          const dataTable =\n",
              "            await google.colab.kernel.invokeFunction('convertToInteractive',\n",
              "                                                     [key], {});\n",
              "          if (!dataTable) return;\n",
              "\n",
              "          const docLinkHtml = 'Like what you see? Visit the ' +\n",
              "            '<a target=\"_blank\" href=https://colab.research.google.com/notebooks/data_table.ipynb>data table notebook</a>'\n",
              "            + ' to learn more about interactive tables.';\n",
              "          element.innerHTML = '';\n",
              "          dataTable['output_type'] = 'display_data';\n",
              "          await google.colab.output.renderOutput(dataTable, element);\n",
              "          const docLink = document.createElement('div');\n",
              "          docLink.innerHTML = docLinkHtml;\n",
              "          element.appendChild(docLink);\n",
              "        }\n",
              "      </script>\n",
              "    </div>\n",
              "  </div>\n",
              "  "
            ]
          },
          "metadata": {},
          "execution_count": 27
        }
      ]
    },
    {
      "cell_type": "code",
      "source": [
        "y= data['Species']\n",
        "y.head()"
      ],
      "metadata": {
        "colab": {
          "base_uri": "https://localhost:8080/"
        },
        "id": "y-NBG2LAKkuq",
        "outputId": "8e3b1665-1a75-4cf5-a7e6-3fe2fda22e84"
      },
      "execution_count": 28,
      "outputs": [
        {
          "output_type": "execute_result",
          "data": {
            "text/plain": [
              "0    0\n",
              "1    0\n",
              "2    0\n",
              "3    0\n",
              "4    0\n",
              "Name: Species, dtype: int64"
            ]
          },
          "metadata": {},
          "execution_count": 28
        }
      ]
    },
    {
      "cell_type": "markdown",
      "source": [
        "# TRAINING THE MODEL & EVALUATION"
      ],
      "metadata": {
        "id": "8jIYreRmqFVy"
      }
    },
    {
      "cell_type": "code",
      "source": [
        "from sklearn.model_selection import train_test_split\n",
        "tt= train_test_split\n",
        "xtrain,xtest, ytrain,ytest = tt(x,y,test_size= 0.3 , random_state=0 )"
      ],
      "metadata": {
        "id": "Mk1BMsyJhTNO"
      },
      "execution_count": 29,
      "outputs": []
    },
    {
      "cell_type": "code",
      "source": [
        "from sklearn.linear_model import LogisticRegression\n",
        "from sklearn.neighbors import KNeighborsClassifier\n",
        "from sklearn.svm import SVC\n",
        "from sklearn.naive_bayes import GaussianNB\n",
        "from sklearn.tree import DecisionTreeClassifier\n",
        "from sklearn.ensemble import RandomForestClassifier\n",
        "from sklearn.metrics import accuracy_score\n"
      ],
      "metadata": {
        "id": "ysOJFgaKhs_o"
      },
      "execution_count": 30,
      "outputs": []
    },
    {
      "cell_type": "code",
      "source": [
        "lr = LogisticRegression()\n",
        "knn = KNeighborsClassifier()\n",
        "svc = SVC()\n",
        "gnb = GaussianNB()\n",
        "dtc = DecisionTreeClassifier()\n",
        "rfc = RandomForestClassifier()"
      ],
      "metadata": {
        "id": "63vul0SNizp_"
      },
      "execution_count": 31,
      "outputs": []
    },
    {
      "cell_type": "code",
      "source": [
        "models= [lr,knn,svc,gnb,dtc,rfc]\n",
        "scores= []\n",
        "\n",
        "for model in models:\n",
        "  model.fit(xtrain, ytrain)\n",
        "  ypred= model.predict(xtest)\n",
        "  scores.append(accuracy_score(ytest,ypred))\n",
        "  model_name = type(model).__name__\n",
        "  print(\"Accuracy of {} is {}\".format(model_name, accuracy_score(ytest,ypred)) )\n",
        "\n"
      ],
      "metadata": {
        "colab": {
          "base_uri": "https://localhost:8080/"
        },
        "id": "SK7onjYjjRk3",
        "outputId": "bd20abee-ee9e-4df3-b9fb-8f120aa9a451"
      },
      "execution_count": 32,
      "outputs": [
        {
          "output_type": "stream",
          "name": "stdout",
          "text": [
            "Accuracy of LogisticRegression is 0.9777777777777777\n",
            "Accuracy of KNeighborsClassifier is 0.9777777777777777\n",
            "Accuracy of SVC is 0.9777777777777777\n",
            "Accuracy of GaussianNB is 1.0\n",
            "Accuracy of DecisionTreeClassifier is 0.9777777777777777\n",
            "Accuracy of RandomForestClassifier is 0.9777777777777777\n"
          ]
        }
      ]
    },
    {
      "cell_type": "markdown",
      "source": [
        "# ACCURACY OF CONFUSION MATRIX"
      ],
      "metadata": {
        "id": "1bS21YLNrJlo"
      }
    },
    {
      "cell_type": "code",
      "source": [
        "from sklearn.metrics import confusion_matrix"
      ],
      "metadata": {
        "id": "-tvT3rpPr6zW"
      },
      "execution_count": 33,
      "outputs": []
    },
    {
      "cell_type": "code",
      "source": [
        "cn=confusion_matrix(ytest,ypred)\n",
        "cn"
      ],
      "metadata": {
        "colab": {
          "base_uri": "https://localhost:8080/"
        },
        "id": "SSrLRpkjsEA_",
        "outputId": "84cd3571-5832-4710-f6dd-f4f59e25b9b6"
      },
      "execution_count": 34,
      "outputs": [
        {
          "output_type": "execute_result",
          "data": {
            "text/plain": [
              "array([[16,  0,  0],\n",
              "       [ 0, 17,  1],\n",
              "       [ 0,  0, 11]])"
            ]
          },
          "metadata": {},
          "execution_count": 34
        }
      ]
    },
    {
      "cell_type": "code",
      "source": [
        "sns.heatmap(cn,cmap='Reds')"
      ],
      "metadata": {
        "colab": {
          "base_uri": "https://localhost:8080/",
          "height": 282
        },
        "id": "AGLZk_aCsLcR",
        "outputId": "37f91623-4a86-48f5-fefb-7833a4fb442f"
      },
      "execution_count": 35,
      "outputs": [
        {
          "output_type": "execute_result",
          "data": {
            "text/plain": [
              "<matplotlib.axes._subplots.AxesSubplot at 0x7fe7507b94d0>"
            ]
          },
          "metadata": {},
          "execution_count": 35
        },
        {
          "output_type": "display_data",
          "data": {
            "text/plain": [
              "<Figure size 432x288 with 2 Axes>"
            ],
            "image/png": "[encoded data removed]"
          },
          "metadata": {
            "needs_background": "light"
          }
        }
      ]
    },
    {
      "cell_type": "markdown",
      "source": [
        "# BUILDING DECISION TREE CLASSIFIER MODEL"
      ],
      "metadata": {
        "id": "XoIBJB4_pblw"
      }
    },
    {
      "cell_type": "code",
      "source": [
        "from sklearn import tree\n",
        "tree.plot_tree(dtc)"
      ],
      "metadata": {
        "colab": {
          "base_uri": "https://localhost:8080/",
          "height": 474
        },
        "id": "AWGGOtgmsT7P",
        "outputId": "34d635cc-9434-470e-bcfc-27b30a9c75f3"
      },
      "execution_count": 36,
      "outputs": [
        {
          "output_type": "execute_result",
          "data": {
            "text/plain": [
              "[Text(0.4, 0.9, 'X[2] <= 2.35\\ngini = 0.664\\nsamples = 105\\nvalue = [34, 32, 39]'),\n",
              " Text(0.3, 0.7, 'gini = 0.0\\nsamples = 34\\nvalue = [34, 0, 0]'),\n",
              " Text(0.5, 0.7, 'X[2] <= 4.95\\ngini = 0.495\\nsamples = 71\\nvalue = [0, 32, 39]'),\n",
              " Text(0.2, 0.5, 'X[3] <= 1.65\\ngini = 0.161\\nsamples = 34\\nvalue = [0, 31, 3]'),\n",
              " Text(0.1, 0.3, 'gini = 0.0\\nsamples = 30\\nvalue = [0, 30, 0]'),\n",
              " Text(0.3, 0.3, 'X[1] <= 3.1\\ngini = 0.375\\nsamples = 4\\nvalue = [0, 1, 3]'),\n",
              " Text(0.2, 0.1, 'gini = 0.0\\nsamples = 3\\nvalue = [0, 0, 3]'),\n",
              " Text(0.4, 0.1, 'gini = 0.0\\nsamples = 1\\nvalue = [0, 1, 0]'),\n",
              " Text(0.8, 0.5, 'X[2] <= 5.05\\ngini = 0.053\\nsamples = 37\\nvalue = [0, 1, 36]'),\n",
              " Text(0.7, 0.3, 'X[0] <= 6.5\\ngini = 0.375\\nsamples = 4\\nvalue = [0, 1, 3]'),\n",
              " Text(0.6, 0.1, 'gini = 0.0\\nsamples = 3\\nvalue = [0, 0, 3]'),\n",
              " Text(0.8, 0.1, 'gini = 0.0\\nsamples = 1\\nvalue = [0, 1, 0]'),\n",
              " Text(0.9, 0.3, 'gini = 0.0\\nsamples = 33\\nvalue = [0, 0, 33]')]"
            ]
          },
          "metadata": {},
          "execution_count": 36
        },
        {
          "output_type": "display_data",
          "data": {
            "text/plain": [
              "<Figure size 432x288 with 1 Axes>"
            ],
            "image/png": "[encoded data removed]"
          },
          "metadata": {
            "needs_background": "light"
          }
        }
      ]
    },
    {
      "cell_type": "markdown",
      "source": [],
      "metadata": {
        "id": "cLg8WnqBpT6F"
      }
    },
    {
      "cell_type": "code",
      "source": [
        "modelx= DecisionTreeClassifier().fit(x,y)"
      ],
      "metadata": {
        "id": "1mW3ulG6jNzV"
      },
      "execution_count": 40,
      "outputs": []
    },
    {
      "cell_type": "code",
      "source": [
        "plt.figure(figsize = (20,15))\n",
        "tree = tree.plot_tree(modelx, feature_names = f_n, class_names = c_n, filled = True)"
      ],
      "metadata": {
        "colab": {
          "base_uri": "https://localhost:8080/",
          "height": 846
        },
        "id": "MMskKteDjPQO",
        "outputId": "919c59ff-b306-4107-cec2-279204fc45ed"
      },
      "execution_count": 41,
      "outputs": [
        {
          "output_type": "display_data",
          "data": {
            "text/plain": [
              "<Figure size 1440x1080 with 1 Axes>"
            ],
            "image/png": "[encoded data removed]"
          },
          "metadata": {
            "needs_background": "light"
          }
        }
      ]
    }
  ]
}