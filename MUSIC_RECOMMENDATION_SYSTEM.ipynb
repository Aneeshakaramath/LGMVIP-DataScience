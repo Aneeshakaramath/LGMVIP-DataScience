{
  "nbformat": 4,
  "nbformat_minor": 0,
  "metadata": {
    "colab": {
      "name": "MUSIC RECOMMENDATION SYSTEM.ipynb",
      "provenance": [],
      "collapsed_sections": [],
      "mount_file_id": "1SkqHPNxuLrY5UYS2GFIjUUMjytV6CwAc",
      "authorship_tag": "ABX9TyPDuFbw+wX0JvgUMCg51FS9",
      "include_colab_link": true
    },
    "kernelspec": {
      "name": "python3",
      "display_name": "Python 3"
    },
    "language_info": {
      "name": "python"
    }
  },
  "cells": [
    {
      "cell_type": "markdown",
      "metadata": {
        "id": "view-in-github",
        "colab_type": "text"
      },
      "source": [
        "<a href=\"https://colab.research.google.com/github/Aneeshakaramath/LGMVIP-DataScience/blob/main/MUSIC_RECOMMENDATION_SYSTEM.ipynb\" target=\"_parent\"><img src=\"https://colab.research.google.com/assets/colab-badge.svg\" alt=\"Open In Colab\"/></a>"
      ]
    },
    {
      "cell_type": "markdown",
      "source": [
        "**LET'S GROW MORE -VIRTUAL INTERNSHIP 2022**\n",
        " September 2022\n",
        " BY ANEESHA PARVEEN S K\n"
      ],
      "metadata": {
        "id": "Rw0ZassREnl1"
      }
    },
    {
      "cell_type": "markdown",
      "source": [
        "# MUSIC RECOMMENDATION SYSTEM\n",
        "\n",
        "By using music recommender system, the music provider can predict and then offer the appropriate songs to their users based on the characteristics of the music that has been heard previously.\n",
        "\n",
        "\n",
        "\n",
        "---\n",
        "\n",
        "![music.jpg](data:image/jpeg;base64,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)"
      ],
      "metadata": {
        "id": "qk2679IBWHeG"
      }
    },
    {
      "cell_type": "markdown",
      "source": [
        "**AIM:**\n",
        "\n",
        "To create a music recommendation system.\n",
        "\n"
      ],
      "metadata": {
        "id": "rdYG4hyNW4lA"
      }
    },
    {
      "cell_type": "markdown",
      "source": [
        "# IMPORTING LIBRARIES"
      ],
      "metadata": {
        "id": "cBC3-lhTXLHd"
      }
    },
    {
      "cell_type": "code",
      "source": [
        "import pandas as pd\n",
        "import numpy as np\n",
        "import seaborn as sns\n",
        "import matplotlib.pyplot as plt\n",
        "import warnings\n",
        "warnings.filterwarnings('ignore')"
      ],
      "metadata": {
        "id": "MemUjmJGEwaR"
      },
      "execution_count": null,
      "outputs": []
    },
    {
      "cell_type": "markdown",
      "source": [
        "# IMPORTING THE DATASET"
      ],
      "metadata": {
        "id": "xg7XktOXXSrO"
      }
    },
    {
      "cell_type": "code",
      "source": [
        "train = pd.read_csv('/content/drive/MyDrive/DATASET/train.csv')\n",
        "songs = pd.read_csv('/content/drive/MyDrive/DATASET/songs.csv',encoding='utf8')\n",
        "members=pd.read_csv('/content/drive/MyDrive/DATASET/members.csv')"
      ],
      "metadata": {
        "id": "-sR5inWmFALK"
      },
      "execution_count": null,
      "outputs": []
    },
    {
      "cell_type": "code",
      "source": [
        "train.head()"
      ],
      "metadata": {
        "colab": {
          "base_uri": "https://localhost:8080/",
          "height": 305
        },
        "id": "emfSLReXNbue",
        "outputId": "98a3d9e6-1b39-42e2-dc54-0c61efa93710"
      },
      "execution_count": null,
      "outputs": [
        {
          "output_type": "execute_result",
          "data": {
            "text/plain": [
              "                                           msno  \\\n",
              "0  FGtllVqz18RPiwJj/edr2gV78zirAiY/9SmYvia+kCg=   \n",
              "1  Xumu+NIjS6QYVxDS4/t3SawvJ7viT9hPKXmf0RtLNx8=   \n",
              "2  Xumu+NIjS6QYVxDS4/t3SawvJ7viT9hPKXmf0RtLNx8=   \n",
              "3  Xumu+NIjS6QYVxDS4/t3SawvJ7viT9hPKXmf0RtLNx8=   \n",
              "4  FGtllVqz18RPiwJj/edr2gV78zirAiY/9SmYvia+kCg=   \n",
              "\n",
              "                                        song_id source_system_tab  \\\n",
              "0  BBzumQNXUHKdEBOB7mAJuzok+IJA1c2Ryg/yzTF6tik=           explore   \n",
              "1  bhp/MpSNoqoxOIB+/l8WPqu6jldth4DIpCm3ayXnJqM=        my library   \n",
              "2  JNWfrrC7zNN7BdMpsISKa4Mw+xVJYNnxXh3/Epw7QgY=        my library   \n",
              "3  2A87tzfnJTSWqD7gIZHisolhe4DMdzkbd6LzO1KHjNs=        my library   \n",
              "4  3qm6XTZ6MOCU11x8FIVbAGH5l5uMkT3/ZalWG1oo2Gc=           explore   \n",
              "\n",
              "    source_screen_name      source_type  target  \n",
              "0              Explore  online-playlist     1.0  \n",
              "1  Local playlist more   local-playlist     1.0  \n",
              "2  Local playlist more   local-playlist     1.0  \n",
              "3  Local playlist more   local-playlist     1.0  \n",
              "4              Explore  online-playlist     1.0  "
            ],
            "text/html": [
              "\n",
              "  <div id=\"df-c4fc119d-370e-4767-b400-5f9bdd522bfa\">\n",
              "    <div class=\"colab-df-container\">\n",
              "      <div>\n",
              "<style scoped>\n",
              "    .dataframe tbody tr th:only-of-type {\n",
              "        vertical-align: middle;\n",
              "    }\n",
              "\n",
              "    .dataframe tbody tr th {\n",
              "        vertical-align: top;\n",
              "    }\n",
              "\n",
              "    .dataframe thead th {\n",
              "        text-align: right;\n",
              "    }\n",
              "</style>\n",
              "<table border=\"1\" class=\"dataframe\">\n",
              "  <thead>\n",
              "    <tr style=\"text-align: right;\">\n",
              "      <th></th>\n",
              "      <th>msno</th>\n",
              "      <th>song_id</th>\n",
              "      <th>source_system_tab</th>\n",
              "      <th>source_screen_name</th>\n",
              "      <th>source_type</th>\n",
              "      <th>target</th>\n",
              "    </tr>\n",
              "  </thead>\n",
              "  <tbody>\n",
              "    <tr>\n",
              "      <th>0</th>\n",
              "      <td>FGtllVqz18RPiwJj/edr2gV78zirAiY/9SmYvia+kCg=</td>\n",
              "      <td>BBzumQNXUHKdEBOB7mAJuzok+IJA1c2Ryg/yzTF6tik=</td>\n",
              "      <td>explore</td>\n",
              "      <td>Explore</td>\n",
              "      <td>online-playlist</td>\n",
              "      <td>1.0</td>\n",
              "    </tr>\n",
              "    <tr>\n",
              "      <th>1</th>\n",
              "      <td>Xumu+NIjS6QYVxDS4/t3SawvJ7viT9hPKXmf0RtLNx8=</td>\n",
              "      <td>bhp/MpSNoqoxOIB+/l8WPqu6jldth4DIpCm3ayXnJqM=</td>\n",
              "      <td>my library</td>\n",
              "      <td>Local playlist more</td>\n",
              "      <td>local-playlist</td>\n",
              "      <td>1.0</td>\n",
              "    </tr>\n",
              "    <tr>\n",
              "      <th>2</th>\n",
              "      <td>Xumu+NIjS6QYVxDS4/t3SawvJ7viT9hPKXmf0RtLNx8=</td>\n",
              "      <td>JNWfrrC7zNN7BdMpsISKa4Mw+xVJYNnxXh3/Epw7QgY=</td>\n",
              "      <td>my library</td>\n",
              "      <td>Local playlist more</td>\n",
              "      <td>local-playlist</td>\n",
              "      <td>1.0</td>\n",
              "    </tr>\n",
              "    <tr>\n",
              "      <th>3</th>\n",
              "      <td>Xumu+NIjS6QYVxDS4/t3SawvJ7viT9hPKXmf0RtLNx8=</td>\n",
              "      <td>2A87tzfnJTSWqD7gIZHisolhe4DMdzkbd6LzO1KHjNs=</td>\n",
              "      <td>my library</td>\n",
              "      <td>Local playlist more</td>\n",
              "      <td>local-playlist</td>\n",
              "      <td>1.0</td>\n",
              "    </tr>\n",
              "    <tr>\n",
              "      <th>4</th>\n",
              "      <td>FGtllVqz18RPiwJj/edr2gV78zirAiY/9SmYvia+kCg=</td>\n",
              "      <td>3qm6XTZ6MOCU11x8FIVbAGH5l5uMkT3/ZalWG1oo2Gc=</td>\n",
              "      <td>explore</td>\n",
              "      <td>Explore</td>\n",
              "      <td>online-playlist</td>\n",
              "      <td>1.0</td>\n",
              "    </tr>\n",
              "  </tbody>\n",
              "</table>\n",
              "</div>\n",
              "      <button class=\"colab-df-convert\" onclick=\"convertToInteractive('df-c4fc119d-370e-4767-b400-5f9bdd522bfa')\"\n",
              "              title=\"Convert this dataframe to an interactive table.\"\n",
              "              style=\"display:none;\">\n",
              "        \n",
              "  <svg xmlns=\"http://www.w3.org/2000/svg\" height=\"24px\"viewBox=\"0 0 24 24\"\n",
              "       width=\"24px\">\n",
              "    <path d=\"M0 0h24v24H0V0z\" fill=\"none\"/>\n",
              "    <path d=\"M18.56 5.44l.94 2.06.94-2.06 2.06-.94-2.06-.94-.94-2.06-.94 2.06-2.06.94zm-11 1L8.5 8.5l.94-2.06 2.06-.94-2.06-.94L8.5 2.5l-.94 2.06-2.06.94zm10 10l.94 2.06.94-2.06 2.06-.94-2.06-.94-.94-2.06-.94 2.06-2.06.94z\"/><path d=\"M17.41 7.96l-1.37-1.37c-.4-.4-.92-.59-1.43-.59-.52 0-1.04.2-1.43.59L10.3 9.45l-7.72 7.72c-.78.78-.78 2.05 0 2.83L4 21.41c.39.39.9.59 1.41.59.51 0 1.02-.2 1.41-.59l7.78-7.78 2.81-2.81c.8-.78.8-2.07 0-2.86zM5.41 20L4 18.59l7.72-7.72 1.47 1.35L5.41 20z\"/>\n",
              "  </svg>\n",
              "      </button>\n",
              "      \n",
              "  <style>\n",
              "    .colab-df-container {\n",
              "      display:flex;\n",
              "      flex-wrap:wrap;\n",
              "      gap: 12px;\n",
              "    }\n",
              "\n",
              "    .colab-df-convert {\n",
              "      background-color: #E8F0FE;\n",
              "      border: none;\n",
              "      border-radius: 50%;\n",
              "      cursor: pointer;\n",
              "      display: none;\n",
              "      fill: #1967D2;\n",
              "      height: 32px;\n",
              "      padding: 0 0 0 0;\n",
              "      width: 32px;\n",
              "    }\n",
              "\n",
              "    .colab-df-convert:hover {\n",
              "      background-color: #E2EBFA;\n",
              "      box-shadow: 0px 1px 2px rgba(60, 64, 67, 0.3), 0px 1px 3px 1px rgba(60, 64, 67, 0.15);\n",
              "      fill: #174EA6;\n",
              "    }\n",
              "\n",
              "    [theme=dark] .colab-df-convert {\n",
              "      background-color: #3B4455;\n",
              "      fill: #D2E3FC;\n",
              "    }\n",
              "\n",
              "    [theme=dark] .colab-df-convert:hover {\n",
              "      background-color: #434B5C;\n",
              "      box-shadow: 0px 1px 3px 1px rgba(0, 0, 0, 0.15);\n",
              "      filter: drop-shadow(0px 1px 2px rgba(0, 0, 0, 0.3));\n",
              "      fill: #FFFFFF;\n",
              "    }\n",
              "  </style>\n",
              "\n",
              "      <script>\n",
              "        const buttonEl =\n",
              "          document.querySelector('#df-c4fc119d-370e-4767-b400-5f9bdd522bfa button.colab-df-convert');\n",
              "        buttonEl.style.display =\n",
              "          google.colab.kernel.accessAllowed ? 'block' : 'none';\n",
              "\n",
              "        async function convertToInteractive(key) {\n",
              "          const element = document.querySelector('#df-c4fc119d-370e-4767-b400-5f9bdd522bfa');\n",
              "          const dataTable =\n",
              "            await google.colab.kernel.invokeFunction('convertToInteractive',\n",
              "                                                     [key], {});\n",
              "          if (!dataTable) return;\n",
              "\n",
              "          const docLinkHtml = 'Like what you see? Visit the ' +\n",
              "            '<a target=\"_blank\" href=https://colab.research.google.com/notebooks/data_table.ipynb>data table notebook</a>'\n",
              "            + ' to learn more about interactive tables.';\n",
              "          element.innerHTML = '';\n",
              "          dataTable['output_type'] = 'display_data';\n",
              "          await google.colab.output.renderOutput(dataTable, element);\n",
              "          const docLink = document.createElement('div');\n",
              "          docLink.innerHTML = docLinkHtml;\n",
              "          element.appendChild(docLink);\n",
              "        }\n",
              "      </script>\n",
              "    </div>\n",
              "  </div>\n",
              "  "
            ]
          },
          "metadata": {},
          "execution_count": 6
        }
      ]
    },
    {
      "cell_type": "code",
      "source": [
        "songs.head()"
      ],
      "metadata": {
        "colab": {
          "base_uri": "https://localhost:8080/",
          "height": 354
        },
        "id": "msAY7XFINhNa",
        "outputId": "2f5c1f49-974c-4af8-f30c-f0412cf8bf61"
      },
      "execution_count": null,
      "outputs": [
        {
          "output_type": "execute_result",
          "data": {
            "text/plain": [
              "                                        song_id  song_length genre_ids  \\\n",
              "0  CXoTN1eb7AI+DntdU1vbcwGRV4SCIDxZu+YD8JP8r4E=       247640       465   \n",
              "1  o0kFgae9QtnYgRkVPqLJwa05zIhRlUjfF7O1tDw0ZDU=       197328       444   \n",
              "2  DwVvVurfpuz+XPuFvucclVQEyPqcpUkHR0ne1RQzPs0=       231781       465   \n",
              "3  dKMBWoZyScdxSkihKG+Vf47nc18N9q4m58+b4e7dSSE=       273554       465   \n",
              "4  W3bqWd3T+VeHFzHAUfARgW9AvVRaF4N5Yzm4Mr6Eo/o=       140329       726   \n",
              "\n",
              "        artist_name                            composer     lyricist  language  \n",
              "0  張信哲 (Jeff Chang)                                  董貞          何啟弘       3.0  \n",
              "1         BLACKPINK  TEDDY|  FUTURE BOUNCE|  Bekuh BOOM        TEDDY      31.0  \n",
              "2      SUPER JUNIOR                                 NaN          NaN      31.0  \n",
              "3             S.H.E                                 湯小康          徐世珍       3.0  \n",
              "4              貴族精選                         Traditional  Traditional      52.0  "
            ],
            "text/html": [
              "\n",
              "  <div id=\"df-768b5341-a7ac-4e0c-b97d-9dbed08ae8eb\">\n",
              "    <div class=\"colab-df-container\">\n",
              "      <div>\n",
              "<style scoped>\n",
              "    .dataframe tbody tr th:only-of-type {\n",
              "        vertical-align: middle;\n",
              "    }\n",
              "\n",
              "    .dataframe tbody tr th {\n",
              "        vertical-align: top;\n",
              "    }\n",
              "\n",
              "    .dataframe thead th {\n",
              "        text-align: right;\n",
              "    }\n",
              "</style>\n",
              "<table border=\"1\" class=\"dataframe\">\n",
              "  <thead>\n",
              "    <tr style=\"text-align: right;\">\n",
              "      <th></th>\n",
              "      <th>song_id</th>\n",
              "      <th>song_length</th>\n",
              "      <th>genre_ids</th>\n",
              "      <th>artist_name</th>\n",
              "      <th>composer</th>\n",
              "      <th>lyricist</th>\n",
              "      <th>language</th>\n",
              "    </tr>\n",
              "  </thead>\n",
              "  <tbody>\n",
              "    <tr>\n",
              "      <th>0</th>\n",
              "      <td>CXoTN1eb7AI+DntdU1vbcwGRV4SCIDxZu+YD8JP8r4E=</td>\n",
              "      <td>247640</td>\n",
              "      <td>465</td>\n",
              "      <td>張信哲 (Jeff Chang)</td>\n",
              "      <td>董貞</td>\n",
              "      <td>何啟弘</td>\n",
              "      <td>3.0</td>\n",
              "    </tr>\n",
              "    <tr>\n",
              "      <th>1</th>\n",
              "      <td>o0kFgae9QtnYgRkVPqLJwa05zIhRlUjfF7O1tDw0ZDU=</td>\n",
              "      <td>197328</td>\n",
              "      <td>444</td>\n",
              "      <td>BLACKPINK</td>\n",
              "      <td>TEDDY|  FUTURE BOUNCE|  Bekuh BOOM</td>\n",
              "      <td>TEDDY</td>\n",
              "      <td>31.0</td>\n",
              "    </tr>\n",
              "    <tr>\n",
              "      <th>2</th>\n",
              "      <td>DwVvVurfpuz+XPuFvucclVQEyPqcpUkHR0ne1RQzPs0=</td>\n",
              "      <td>231781</td>\n",
              "      <td>465</td>\n",
              "      <td>SUPER JUNIOR</td>\n",
              "      <td>NaN</td>\n",
              "      <td>NaN</td>\n",
              "      <td>31.0</td>\n",
              "    </tr>\n",
              "    <tr>\n",
              "      <th>3</th>\n",
              "      <td>dKMBWoZyScdxSkihKG+Vf47nc18N9q4m58+b4e7dSSE=</td>\n",
              "      <td>273554</td>\n",
              "      <td>465</td>\n",
              "      <td>S.H.E</td>\n",
              "      <td>湯小康</td>\n",
              "      <td>徐世珍</td>\n",
              "      <td>3.0</td>\n",
              "    </tr>\n",
              "    <tr>\n",
              "      <th>4</th>\n",
              "      <td>W3bqWd3T+VeHFzHAUfARgW9AvVRaF4N5Yzm4Mr6Eo/o=</td>\n",
              "      <td>140329</td>\n",
              "      <td>726</td>\n",
              "      <td>貴族精選</td>\n",
              "      <td>Traditional</td>\n",
              "      <td>Traditional</td>\n",
              "      <td>52.0</td>\n",
              "    </tr>\n",
              "  </tbody>\n",
              "</table>\n",
              "</div>\n",
              "      <button class=\"colab-df-convert\" onclick=\"convertToInteractive('df-768b5341-a7ac-4e0c-b97d-9dbed08ae8eb')\"\n",
              "              title=\"Convert this dataframe to an interactive table.\"\n",
              "              style=\"display:none;\">\n",
              "        \n",
              "  <svg xmlns=\"http://www.w3.org/2000/svg\" height=\"24px\"viewBox=\"0 0 24 24\"\n",
              "       width=\"24px\">\n",
              "    <path d=\"M0 0h24v24H0V0z\" fill=\"none\"/>\n",
              "    <path d=\"M18.56 5.44l.94 2.06.94-2.06 2.06-.94-2.06-.94-.94-2.06-.94 2.06-2.06.94zm-11 1L8.5 8.5l.94-2.06 2.06-.94-2.06-.94L8.5 2.5l-.94 2.06-2.06.94zm10 10l.94 2.06.94-2.06 2.06-.94-2.06-.94-.94-2.06-.94 2.06-2.06.94z\"/><path d=\"M17.41 7.96l-1.37-1.37c-.4-.4-.92-.59-1.43-.59-.52 0-1.04.2-1.43.59L10.3 9.45l-7.72 7.72c-.78.78-.78 2.05 0 2.83L4 21.41c.39.39.9.59 1.41.59.51 0 1.02-.2 1.41-.59l7.78-7.78 2.81-2.81c.8-.78.8-2.07 0-2.86zM5.41 20L4 18.59l7.72-7.72 1.47 1.35L5.41 20z\"/>\n",
              "  </svg>\n",
              "      </button>\n",
              "      \n",
              "  <style>\n",
              "    .colab-df-container {\n",
              "      display:flex;\n",
              "      flex-wrap:wrap;\n",
              "      gap: 12px;\n",
              "    }\n",
              "\n",
              "    .colab-df-convert {\n",
              "      background-color: #E8F0FE;\n",
              "      border: none;\n",
              "      border-radius: 50%;\n",
              "      cursor: pointer;\n",
              "      display: none;\n",
              "      fill: #1967D2;\n",
              "      height: 32px;\n",
              "      padding: 0 0 0 0;\n",
              "      width: 32px;\n",
              "    }\n",
              "\n",
              "    .colab-df-convert:hover {\n",
              "      background-color: #E2EBFA;\n",
              "      box-shadow: 0px 1px 2px rgba(60, 64, 67, 0.3), 0px 1px 3px 1px rgba(60, 64, 67, 0.15);\n",
              "      fill: #174EA6;\n",
              "    }\n",
              "\n",
              "    [theme=dark] .colab-df-convert {\n",
              "      background-color: #3B4455;\n",
              "      fill: #D2E3FC;\n",
              "    }\n",
              "\n",
              "    [theme=dark] .colab-df-convert:hover {\n",
              "      background-color: #434B5C;\n",
              "      box-shadow: 0px 1px 3px 1px rgba(0, 0, 0, 0.15);\n",
              "      filter: drop-shadow(0px 1px 2px rgba(0, 0, 0, 0.3));\n",
              "      fill: #FFFFFF;\n",
              "    }\n",
              "  </style>\n",
              "\n",
              "      <script>\n",
              "        const buttonEl =\n",
              "          document.querySelector('#df-768b5341-a7ac-4e0c-b97d-9dbed08ae8eb button.colab-df-convert');\n",
              "        buttonEl.style.display =\n",
              "          google.colab.kernel.accessAllowed ? 'block' : 'none';\n",
              "\n",
              "        async function convertToInteractive(key) {\n",
              "          const element = document.querySelector('#df-768b5341-a7ac-4e0c-b97d-9dbed08ae8eb');\n",
              "          const dataTable =\n",
              "            await google.colab.kernel.invokeFunction('convertToInteractive',\n",
              "                                                     [key], {});\n",
              "          if (!dataTable) return;\n",
              "\n",
              "          const docLinkHtml = 'Like what you see? Visit the ' +\n",
              "            '<a target=\"_blank\" href=https://colab.research.google.com/notebooks/data_table.ipynb>data table notebook</a>'\n",
              "            + ' to learn more about interactive tables.';\n",
              "          element.innerHTML = '';\n",
              "          dataTable['output_type'] = 'display_data';\n",
              "          await google.colab.output.renderOutput(dataTable, element);\n",
              "          const docLink = document.createElement('div');\n",
              "          docLink.innerHTML = docLinkHtml;\n",
              "          element.appendChild(docLink);\n",
              "        }\n",
              "      </script>\n",
              "    </div>\n",
              "  </div>\n",
              "  "
            ]
          },
          "metadata": {},
          "execution_count": 7
        }
      ]
    },
    {
      "cell_type": "code",
      "source": [
        "members.head()"
      ],
      "metadata": {
        "colab": {
          "base_uri": "https://localhost:8080/",
          "height": 270
        },
        "id": "zXa6Vo1VNx34",
        "outputId": "bc8504cb-d469-4a19-e841-efd71da20f88"
      },
      "execution_count": null,
      "outputs": [
        {
          "output_type": "execute_result",
          "data": {
            "text/plain": [
              "                                           msno  city  bd gender  \\\n",
              "0  XQxgAYj3klVKjR3oxPPXYYFp4soD4TuBghkhMTD4oTw=     1   0    NaN   \n",
              "1  UizsfmJb9mV54qE9hCYyU07Va97c0lCRLEQX3ae+ztM=     1   0    NaN   \n",
              "2  D8nEhsIOBSoE6VthTaqDX8U6lqjJ7dLdr72mOyLya2A=     1   0    NaN   \n",
              "3  mCuD+tZ1hERA/o5GPqk38e041J8ZsBaLcu7nGoIIvhI=     1   0    NaN   \n",
              "4  q4HRBfVSssAFS9iRfxWrohxuk9kCYMKjHOEagUMV6rQ=     1   0    NaN   \n",
              "\n",
              "   registered_via  registration_init_time  expiration_date  \n",
              "0               7                20110820         20170920  \n",
              "1               7                20150628         20170622  \n",
              "2               4                20160411         20170712  \n",
              "3               9                20150906         20150907  \n",
              "4               4                20170126         20170613  "
            ],
            "text/html": [
              "\n",
              "  <div id=\"df-796ac9b8-dc61-42df-b0e5-3114e159ca45\">\n",
              "    <div class=\"colab-df-container\">\n",
              "      <div>\n",
              "<style scoped>\n",
              "    .dataframe tbody tr th:only-of-type {\n",
              "        vertical-align: middle;\n",
              "    }\n",
              "\n",
              "    .dataframe tbody tr th {\n",
              "        vertical-align: top;\n",
              "    }\n",
              "\n",
              "    .dataframe thead th {\n",
              "        text-align: right;\n",
              "    }\n",
              "</style>\n",
              "<table border=\"1\" class=\"dataframe\">\n",
              "  <thead>\n",
              "    <tr style=\"text-align: right;\">\n",
              "      <th></th>\n",
              "      <th>msno</th>\n",
              "      <th>city</th>\n",
              "      <th>bd</th>\n",
              "      <th>gender</th>\n",
              "      <th>registered_via</th>\n",
              "      <th>registration_init_time</th>\n",
              "      <th>expiration_date</th>\n",
              "    </tr>\n",
              "  </thead>\n",
              "  <tbody>\n",
              "    <tr>\n",
              "      <th>0</th>\n",
              "      <td>XQxgAYj3klVKjR3oxPPXYYFp4soD4TuBghkhMTD4oTw=</td>\n",
              "      <td>1</td>\n",
              "      <td>0</td>\n",
              "      <td>NaN</td>\n",
              "      <td>7</td>\n",
              "      <td>20110820</td>\n",
              "      <td>20170920</td>\n",
              "    </tr>\n",
              "    <tr>\n",
              "      <th>1</th>\n",
              "      <td>UizsfmJb9mV54qE9hCYyU07Va97c0lCRLEQX3ae+ztM=</td>\n",
              "      <td>1</td>\n",
              "      <td>0</td>\n",
              "      <td>NaN</td>\n",
              "      <td>7</td>\n",
              "      <td>20150628</td>\n",
              "      <td>20170622</td>\n",
              "    </tr>\n",
              "    <tr>\n",
              "      <th>2</th>\n",
              "      <td>D8nEhsIOBSoE6VthTaqDX8U6lqjJ7dLdr72mOyLya2A=</td>\n",
              "      <td>1</td>\n",
              "      <td>0</td>\n",
              "      <td>NaN</td>\n",
              "      <td>4</td>\n",
              "      <td>20160411</td>\n",
              "      <td>20170712</td>\n",
              "    </tr>\n",
              "    <tr>\n",
              "      <th>3</th>\n",
              "      <td>mCuD+tZ1hERA/o5GPqk38e041J8ZsBaLcu7nGoIIvhI=</td>\n",
              "      <td>1</td>\n",
              "      <td>0</td>\n",
              "      <td>NaN</td>\n",
              "      <td>9</td>\n",
              "      <td>20150906</td>\n",
              "      <td>20150907</td>\n",
              "    </tr>\n",
              "    <tr>\n",
              "      <th>4</th>\n",
              "      <td>q4HRBfVSssAFS9iRfxWrohxuk9kCYMKjHOEagUMV6rQ=</td>\n",
              "      <td>1</td>\n",
              "      <td>0</td>\n",
              "      <td>NaN</td>\n",
              "      <td>4</td>\n",
              "      <td>20170126</td>\n",
              "      <td>20170613</td>\n",
              "    </tr>\n",
              "  </tbody>\n",
              "</table>\n",
              "</div>\n",
              "      <button class=\"colab-df-convert\" onclick=\"convertToInteractive('df-796ac9b8-dc61-42df-b0e5-3114e159ca45')\"\n",
              "              title=\"Convert this dataframe to an interactive table.\"\n",
              "              style=\"display:none;\">\n",
              "        \n",
              "  <svg xmlns=\"http://www.w3.org/2000/svg\" height=\"24px\"viewBox=\"0 0 24 24\"\n",
              "       width=\"24px\">\n",
              "    <path d=\"M0 0h24v24H0V0z\" fill=\"none\"/>\n",
              "    <path d=\"M18.56 5.44l.94 2.06.94-2.06 2.06-.94-2.06-.94-.94-2.06-.94 2.06-2.06.94zm-11 1L8.5 8.5l.94-2.06 2.06-.94-2.06-.94L8.5 2.5l-.94 2.06-2.06.94zm10 10l.94 2.06.94-2.06 2.06-.94-2.06-.94-.94-2.06-.94 2.06-2.06.94z\"/><path d=\"M17.41 7.96l-1.37-1.37c-.4-.4-.92-.59-1.43-.59-.52 0-1.04.2-1.43.59L10.3 9.45l-7.72 7.72c-.78.78-.78 2.05 0 2.83L4 21.41c.39.39.9.59 1.41.59.51 0 1.02-.2 1.41-.59l7.78-7.78 2.81-2.81c.8-.78.8-2.07 0-2.86zM5.41 20L4 18.59l7.72-7.72 1.47 1.35L5.41 20z\"/>\n",
              "  </svg>\n",
              "      </button>\n",
              "      \n",
              "  <style>\n",
              "    .colab-df-container {\n",
              "      display:flex;\n",
              "      flex-wrap:wrap;\n",
              "      gap: 12px;\n",
              "    }\n",
              "\n",
              "    .colab-df-convert {\n",
              "      background-color: #E8F0FE;\n",
              "      border: none;\n",
              "      border-radius: 50%;\n",
              "      cursor: pointer;\n",
              "      display: none;\n",
              "      fill: #1967D2;\n",
              "      height: 32px;\n",
              "      padding: 0 0 0 0;\n",
              "      width: 32px;\n",
              "    }\n",
              "\n",
              "    .colab-df-convert:hover {\n",
              "      background-color: #E2EBFA;\n",
              "      box-shadow: 0px 1px 2px rgba(60, 64, 67, 0.3), 0px 1px 3px 1px rgba(60, 64, 67, 0.15);\n",
              "      fill: #174EA6;\n",
              "    }\n",
              "\n",
              "    [theme=dark] .colab-df-convert {\n",
              "      background-color: #3B4455;\n",
              "      fill: #D2E3FC;\n",
              "    }\n",
              "\n",
              "    [theme=dark] .colab-df-convert:hover {\n",
              "      background-color: #434B5C;\n",
              "      box-shadow: 0px 1px 3px 1px rgba(0, 0, 0, 0.15);\n",
              "      filter: drop-shadow(0px 1px 2px rgba(0, 0, 0, 0.3));\n",
              "      fill: #FFFFFF;\n",
              "    }\n",
              "  </style>\n",
              "\n",
              "      <script>\n",
              "        const buttonEl =\n",
              "          document.querySelector('#df-796ac9b8-dc61-42df-b0e5-3114e159ca45 button.colab-df-convert');\n",
              "        buttonEl.style.display =\n",
              "          google.colab.kernel.accessAllowed ? 'block' : 'none';\n",
              "\n",
              "        async function convertToInteractive(key) {\n",
              "          const element = document.querySelector('#df-796ac9b8-dc61-42df-b0e5-3114e159ca45');\n",
              "          const dataTable =\n",
              "            await google.colab.kernel.invokeFunction('convertToInteractive',\n",
              "                                                     [key], {});\n",
              "          if (!dataTable) return;\n",
              "\n",
              "          const docLinkHtml = 'Like what you see? Visit the ' +\n",
              "            '<a target=\"_blank\" href=https://colab.research.google.com/notebooks/data_table.ipynb>data table notebook</a>'\n",
              "            + ' to learn more about interactive tables.';\n",
              "          element.innerHTML = '';\n",
              "          dataTable['output_type'] = 'display_data';\n",
              "          await google.colab.output.renderOutput(dataTable, element);\n",
              "          const docLink = document.createElement('div');\n",
              "          docLink.innerHTML = docLinkHtml;\n",
              "          element.appendChild(docLink);\n",
              "        }\n",
              "      </script>\n",
              "    </div>\n",
              "  </div>\n",
              "  "
            ]
          },
          "metadata": {},
          "execution_count": 8
        }
      ]
    },
    {
      "cell_type": "code",
      "source": [
        "# check basic info of data\n",
        "train.info()\n",
        "songs.info()\n",
        "members.info()"
      ],
      "metadata": {
        "colab": {
          "base_uri": "https://localhost:8080/"
        },
        "id": "dyyr9L29OMKI",
        "outputId": "6e783c38-aaf6-4ccb-d439-6e222689f313"
      },
      "execution_count": null,
      "outputs": [
        {
          "output_type": "stream",
          "name": "stdout",
          "text": [
            "<class 'pandas.core.frame.DataFrame'>\n",
            "RangeIndex: 674810 entries, 0 to 674809\n",
            "Data columns (total 6 columns):\n",
            " #   Column              Non-Null Count   Dtype  \n",
            "---  ------              --------------   -----  \n",
            " 0   msno                674810 non-null  object \n",
            " 1   song_id             674810 non-null  object \n",
            " 2   source_system_tab   672896 non-null  object \n",
            " 3   source_screen_name  644109 non-null  object \n",
            " 4   source_type         673211 non-null  object \n",
            " 5   target              674809 non-null  float64\n",
            "dtypes: float64(1), object(5)\n",
            "memory usage: 30.9+ MB\n",
            "<class 'pandas.core.frame.DataFrame'>\n",
            "RangeIndex: 2296320 entries, 0 to 2296319\n",
            "Data columns (total 7 columns):\n",
            " #   Column       Dtype  \n",
            "---  ------       -----  \n",
            " 0   song_id      object \n",
            " 1   song_length  int64  \n",
            " 2   genre_ids    object \n",
            " 3   artist_name  object \n",
            " 4   composer     object \n",
            " 5   lyricist     object \n",
            " 6   language     float64\n",
            "dtypes: float64(1), int64(1), object(5)\n",
            "memory usage: 122.6+ MB\n",
            "<class 'pandas.core.frame.DataFrame'>\n",
            "RangeIndex: 34403 entries, 0 to 34402\n",
            "Data columns (total 7 columns):\n",
            " #   Column                  Non-Null Count  Dtype \n",
            "---  ------                  --------------  ----- \n",
            " 0   msno                    34403 non-null  object\n",
            " 1   city                    34403 non-null  int64 \n",
            " 2   bd                      34403 non-null  int64 \n",
            " 3   gender                  14501 non-null  object\n",
            " 4   registered_via          34403 non-null  int64 \n",
            " 5   registration_init_time  34403 non-null  int64 \n",
            " 6   expiration_date         34403 non-null  int64 \n",
            "dtypes: int64(5), object(2)\n",
            "memory usage: 1.8+ MB\n"
          ]
        }
      ]
    },
    {
      "cell_type": "code",
      "source": [
        "train.describe()"
      ],
      "metadata": {
        "colab": {
          "base_uri": "https://localhost:8080/",
          "height": 300
        },
        "id": "6WibFRMzOglV",
        "outputId": "774b73a9-90f4-4de5-e467-300710325612"
      },
      "execution_count": null,
      "outputs": [
        {
          "output_type": "execute_result",
          "data": {
            "text/plain": [
              "              target\n",
              "count  674809.000000\n",
              "mean        0.714353\n",
              "std         0.451722\n",
              "min         0.000000\n",
              "25%         0.000000\n",
              "50%         1.000000\n",
              "75%         1.000000\n",
              "max         1.000000"
            ],
            "text/html": [
              "\n",
              "  <div id=\"df-762f4998-93f5-42d8-9355-1651869d207b\">\n",
              "    <div class=\"colab-df-container\">\n",
              "      <div>\n",
              "<style scoped>\n",
              "    .dataframe tbody tr th:only-of-type {\n",
              "        vertical-align: middle;\n",
              "    }\n",
              "\n",
              "    .dataframe tbody tr th {\n",
              "        vertical-align: top;\n",
              "    }\n",
              "\n",
              "    .dataframe thead th {\n",
              "        text-align: right;\n",
              "    }\n",
              "</style>\n",
              "<table border=\"1\" class=\"dataframe\">\n",
              "  <thead>\n",
              "    <tr style=\"text-align: right;\">\n",
              "      <th></th>\n",
              "      <th>target</th>\n",
              "    </tr>\n",
              "  </thead>\n",
              "  <tbody>\n",
              "    <tr>\n",
              "      <th>count</th>\n",
              "      <td>674809.000000</td>\n",
              "    </tr>\n",
              "    <tr>\n",
              "      <th>mean</th>\n",
              "      <td>0.714353</td>\n",
              "    </tr>\n",
              "    <tr>\n",
              "      <th>std</th>\n",
              "      <td>0.451722</td>\n",
              "    </tr>\n",
              "    <tr>\n",
              "      <th>min</th>\n",
              "      <td>0.000000</td>\n",
              "    </tr>\n",
              "    <tr>\n",
              "      <th>25%</th>\n",
              "      <td>0.000000</td>\n",
              "    </tr>\n",
              "    <tr>\n",
              "      <th>50%</th>\n",
              "      <td>1.000000</td>\n",
              "    </tr>\n",
              "    <tr>\n",
              "      <th>75%</th>\n",
              "      <td>1.000000</td>\n",
              "    </tr>\n",
              "    <tr>\n",
              "      <th>max</th>\n",
              "      <td>1.000000</td>\n",
              "    </tr>\n",
              "  </tbody>\n",
              "</table>\n",
              "</div>\n",
              "      <button class=\"colab-df-convert\" onclick=\"convertToInteractive('df-762f4998-93f5-42d8-9355-1651869d207b')\"\n",
              "              title=\"Convert this dataframe to an interactive table.\"\n",
              "              style=\"display:none;\">\n",
              "        \n",
              "  <svg xmlns=\"http://www.w3.org/2000/svg\" height=\"24px\"viewBox=\"0 0 24 24\"\n",
              "       width=\"24px\">\n",
              "    <path d=\"M0 0h24v24H0V0z\" fill=\"none\"/>\n",
              "    <path d=\"M18.56 5.44l.94 2.06.94-2.06 2.06-.94-2.06-.94-.94-2.06-.94 2.06-2.06.94zm-11 1L8.5 8.5l.94-2.06 2.06-.94-2.06-.94L8.5 2.5l-.94 2.06-2.06.94zm10 10l.94 2.06.94-2.06 2.06-.94-2.06-.94-.94-2.06-.94 2.06-2.06.94z\"/><path d=\"M17.41 7.96l-1.37-1.37c-.4-.4-.92-.59-1.43-.59-.52 0-1.04.2-1.43.59L10.3 9.45l-7.72 7.72c-.78.78-.78 2.05 0 2.83L4 21.41c.39.39.9.59 1.41.59.51 0 1.02-.2 1.41-.59l7.78-7.78 2.81-2.81c.8-.78.8-2.07 0-2.86zM5.41 20L4 18.59l7.72-7.72 1.47 1.35L5.41 20z\"/>\n",
              "  </svg>\n",
              "      </button>\n",
              "      \n",
              "  <style>\n",
              "    .colab-df-container {\n",
              "      display:flex;\n",
              "      flex-wrap:wrap;\n",
              "      gap: 12px;\n",
              "    }\n",
              "\n",
              "    .colab-df-convert {\n",
              "      background-color: #E8F0FE;\n",
              "      border: none;\n",
              "      border-radius: 50%;\n",
              "      cursor: pointer;\n",
              "      display: none;\n",
              "      fill: #1967D2;\n",
              "      height: 32px;\n",
              "      padding: 0 0 0 0;\n",
              "      width: 32px;\n",
              "    }\n",
              "\n",
              "    .colab-df-convert:hover {\n",
              "      background-color: #E2EBFA;\n",
              "      box-shadow: 0px 1px 2px rgba(60, 64, 67, 0.3), 0px 1px 3px 1px rgba(60, 64, 67, 0.15);\n",
              "      fill: #174EA6;\n",
              "    }\n",
              "\n",
              "    [theme=dark] .colab-df-convert {\n",
              "      background-color: #3B4455;\n",
              "      fill: #D2E3FC;\n",
              "    }\n",
              "\n",
              "    [theme=dark] .colab-df-convert:hover {\n",
              "      background-color: #434B5C;\n",
              "      box-shadow: 0px 1px 3px 1px rgba(0, 0, 0, 0.15);\n",
              "      filter: drop-shadow(0px 1px 2px rgba(0, 0, 0, 0.3));\n",
              "      fill: #FFFFFF;\n",
              "    }\n",
              "  </style>\n",
              "\n",
              "      <script>\n",
              "        const buttonEl =\n",
              "          document.querySelector('#df-762f4998-93f5-42d8-9355-1651869d207b button.colab-df-convert');\n",
              "        buttonEl.style.display =\n",
              "          google.colab.kernel.accessAllowed ? 'block' : 'none';\n",
              "\n",
              "        async function convertToInteractive(key) {\n",
              "          const element = document.querySelector('#df-762f4998-93f5-42d8-9355-1651869d207b');\n",
              "          const dataTable =\n",
              "            await google.colab.kernel.invokeFunction('convertToInteractive',\n",
              "                                                     [key], {});\n",
              "          if (!dataTable) return;\n",
              "\n",
              "          const docLinkHtml = 'Like what you see? Visit the ' +\n",
              "            '<a target=\"_blank\" href=https://colab.research.google.com/notebooks/data_table.ipynb>data table notebook</a>'\n",
              "            + ' to learn more about interactive tables.';\n",
              "          element.innerHTML = '';\n",
              "          dataTable['output_type'] = 'display_data';\n",
              "          await google.colab.output.renderOutput(dataTable, element);\n",
              "          const docLink = document.createElement('div');\n",
              "          docLink.innerHTML = docLinkHtml;\n",
              "          element.appendChild(docLink);\n",
              "        }\n",
              "      </script>\n",
              "    </div>\n",
              "  </div>\n",
              "  "
            ]
          },
          "metadata": {},
          "execution_count": 10
        }
      ]
    },
    {
      "cell_type": "code",
      "source": [
        "# get statistical summaries of dataset\n",
        "songs.describe()"
      ],
      "metadata": {
        "colab": {
          "base_uri": "https://localhost:8080/",
          "height": 300
        },
        "id": "tFOH1gx8Ovan",
        "outputId": "db87c7fc-1756-4e4d-b6e8-c0faf6973c26"
      },
      "execution_count": null,
      "outputs": [
        {
          "output_type": "execute_result",
          "data": {
            "text/plain": [
              "        song_length      language\n",
              "count  2.296320e+06  2.296319e+06\n",
              "mean   2.469935e+05  3.237800e+01\n",
              "std    1.609200e+05  2.433241e+01\n",
              "min    1.850000e+02 -1.000000e+00\n",
              "25%    1.836000e+05 -1.000000e+00\n",
              "50%    2.266270e+05  5.200000e+01\n",
              "75%    2.772690e+05  5.200000e+01\n",
              "max    1.217385e+07  5.900000e+01"
            ],
            "text/html": [
              "\n",
              "  <div id=\"df-8e694a72-b692-454c-9868-3ede530d4f6e\">\n",
              "    <div class=\"colab-df-container\">\n",
              "      <div>\n",
              "<style scoped>\n",
              "    .dataframe tbody tr th:only-of-type {\n",
              "        vertical-align: middle;\n",
              "    }\n",
              "\n",
              "    .dataframe tbody tr th {\n",
              "        vertical-align: top;\n",
              "    }\n",
              "\n",
              "    .dataframe thead th {\n",
              "        text-align: right;\n",
              "    }\n",
              "</style>\n",
              "<table border=\"1\" class=\"dataframe\">\n",
              "  <thead>\n",
              "    <tr style=\"text-align: right;\">\n",
              "      <th></th>\n",
              "      <th>song_length</th>\n",
              "      <th>language</th>\n",
              "    </tr>\n",
              "  </thead>\n",
              "  <tbody>\n",
              "    <tr>\n",
              "      <th>count</th>\n",
              "      <td>2.296320e+06</td>\n",
              "      <td>2.296319e+06</td>\n",
              "    </tr>\n",
              "    <tr>\n",
              "      <th>mean</th>\n",
              "      <td>2.469935e+05</td>\n",
              "      <td>3.237800e+01</td>\n",
              "    </tr>\n",
              "    <tr>\n",
              "      <th>std</th>\n",
              "      <td>1.609200e+05</td>\n",
              "      <td>2.433241e+01</td>\n",
              "    </tr>\n",
              "    <tr>\n",
              "      <th>min</th>\n",
              "      <td>1.850000e+02</td>\n",
              "      <td>-1.000000e+00</td>\n",
              "    </tr>\n",
              "    <tr>\n",
              "      <th>25%</th>\n",
              "      <td>1.836000e+05</td>\n",
              "      <td>-1.000000e+00</td>\n",
              "    </tr>\n",
              "    <tr>\n",
              "      <th>50%</th>\n",
              "      <td>2.266270e+05</td>\n",
              "      <td>5.200000e+01</td>\n",
              "    </tr>\n",
              "    <tr>\n",
              "      <th>75%</th>\n",
              "      <td>2.772690e+05</td>\n",
              "      <td>5.200000e+01</td>\n",
              "    </tr>\n",
              "    <tr>\n",
              "      <th>max</th>\n",
              "      <td>1.217385e+07</td>\n",
              "      <td>5.900000e+01</td>\n",
              "    </tr>\n",
              "  </tbody>\n",
              "</table>\n",
              "</div>\n",
              "      <button class=\"colab-df-convert\" onclick=\"convertToInteractive('df-8e694a72-b692-454c-9868-3ede530d4f6e')\"\n",
              "              title=\"Convert this dataframe to an interactive table.\"\n",
              "              style=\"display:none;\">\n",
              "        \n",
              "  <svg xmlns=\"http://www.w3.org/2000/svg\" height=\"24px\"viewBox=\"0 0 24 24\"\n",
              "       width=\"24px\">\n",
              "    <path d=\"M0 0h24v24H0V0z\" fill=\"none\"/>\n",
              "    <path d=\"M18.56 5.44l.94 2.06.94-2.06 2.06-.94-2.06-.94-.94-2.06-.94 2.06-2.06.94zm-11 1L8.5 8.5l.94-2.06 2.06-.94-2.06-.94L8.5 2.5l-.94 2.06-2.06.94zm10 10l.94 2.06.94-2.06 2.06-.94-2.06-.94-.94-2.06-.94 2.06-2.06.94z\"/><path d=\"M17.41 7.96l-1.37-1.37c-.4-.4-.92-.59-1.43-.59-.52 0-1.04.2-1.43.59L10.3 9.45l-7.72 7.72c-.78.78-.78 2.05 0 2.83L4 21.41c.39.39.9.59 1.41.59.51 0 1.02-.2 1.41-.59l7.78-7.78 2.81-2.81c.8-.78.8-2.07 0-2.86zM5.41 20L4 18.59l7.72-7.72 1.47 1.35L5.41 20z\"/>\n",
              "  </svg>\n",
              "      </button>\n",
              "      \n",
              "  <style>\n",
              "    .colab-df-container {\n",
              "      display:flex;\n",
              "      flex-wrap:wrap;\n",
              "      gap: 12px;\n",
              "    }\n",
              "\n",
              "    .colab-df-convert {\n",
              "      background-color: #E8F0FE;\n",
              "      border: none;\n",
              "      border-radius: 50%;\n",
              "      cursor: pointer;\n",
              "      display: none;\n",
              "      fill: #1967D2;\n",
              "      height: 32px;\n",
              "      padding: 0 0 0 0;\n",
              "      width: 32px;\n",
              "    }\n",
              "\n",
              "    .colab-df-convert:hover {\n",
              "      background-color: #E2EBFA;\n",
              "      box-shadow: 0px 1px 2px rgba(60, 64, 67, 0.3), 0px 1px 3px 1px rgba(60, 64, 67, 0.15);\n",
              "      fill: #174EA6;\n",
              "    }\n",
              "\n",
              "    [theme=dark] .colab-df-convert {\n",
              "      background-color: #3B4455;\n",
              "      fill: #D2E3FC;\n",
              "    }\n",
              "\n",
              "    [theme=dark] .colab-df-convert:hover {\n",
              "      background-color: #434B5C;\n",
              "      box-shadow: 0px 1px 3px 1px rgba(0, 0, 0, 0.15);\n",
              "      filter: drop-shadow(0px 1px 2px rgba(0, 0, 0, 0.3));\n",
              "      fill: #FFFFFF;\n",
              "    }\n",
              "  </style>\n",
              "\n",
              "      <script>\n",
              "        const buttonEl =\n",
              "          document.querySelector('#df-8e694a72-b692-454c-9868-3ede530d4f6e button.colab-df-convert');\n",
              "        buttonEl.style.display =\n",
              "          google.colab.kernel.accessAllowed ? 'block' : 'none';\n",
              "\n",
              "        async function convertToInteractive(key) {\n",
              "          const element = document.querySelector('#df-8e694a72-b692-454c-9868-3ede530d4f6e');\n",
              "          const dataTable =\n",
              "            await google.colab.kernel.invokeFunction('convertToInteractive',\n",
              "                                                     [key], {});\n",
              "          if (!dataTable) return;\n",
              "\n",
              "          const docLinkHtml = 'Like what you see? Visit the ' +\n",
              "            '<a target=\"_blank\" href=https://colab.research.google.com/notebooks/data_table.ipynb>data table notebook</a>'\n",
              "            + ' to learn more about interactive tables.';\n",
              "          element.innerHTML = '';\n",
              "          dataTable['output_type'] = 'display_data';\n",
              "          await google.colab.output.renderOutput(dataTable, element);\n",
              "          const docLink = document.createElement('div');\n",
              "          docLink.innerHTML = docLinkHtml;\n",
              "          element.appendChild(docLink);\n",
              "        }\n",
              "      </script>\n",
              "    </div>\n",
              "  </div>\n",
              "  "
            ]
          },
          "metadata": {},
          "execution_count": 11
        }
      ]
    },
    {
      "cell_type": "code",
      "source": [
        "members.describe()"
      ],
      "metadata": {
        "colab": {
          "base_uri": "https://localhost:8080/",
          "height": 300
        },
        "id": "wSTBG67kPDJO",
        "outputId": "a8e2172c-9ec2-4b8e-ee4a-591adbca1fb3"
      },
      "execution_count": null,
      "outputs": [
        {
          "output_type": "execute_result",
          "data": {
            "text/plain": [
              "               city            bd  registered_via  registration_init_time  \\\n",
              "count  34403.000000  34403.000000    34403.000000            3.440300e+04   \n",
              "mean       5.371276     12.280935        5.953376            2.013994e+07   \n",
              "std        6.243929     18.170251        2.287534            2.954015e+04   \n",
              "min        1.000000    -43.000000        3.000000            2.004033e+07   \n",
              "25%        1.000000      0.000000        4.000000            2.012103e+07   \n",
              "50%        1.000000      0.000000        7.000000            2.015090e+07   \n",
              "75%       10.000000     25.000000        9.000000            2.016110e+07   \n",
              "max       22.000000   1051.000000       16.000000            2.017023e+07   \n",
              "\n",
              "       expiration_date  \n",
              "count     3.440300e+04  \n",
              "mean      2.016901e+07  \n",
              "std       7.320925e+03  \n",
              "min       1.970010e+07  \n",
              "25%       2.017020e+07  \n",
              "50%       2.017091e+07  \n",
              "75%       2.017093e+07  \n",
              "max       2.020102e+07  "
            ],
            "text/html": [
              "\n",
              "  <div id=\"df-74c6ea76-1749-42ba-aead-20e2f9261398\">\n",
              "    <div class=\"colab-df-container\">\n",
              "      <div>\n",
              "<style scoped>\n",
              "    .dataframe tbody tr th:only-of-type {\n",
              "        vertical-align: middle;\n",
              "    }\n",
              "\n",
              "    .dataframe tbody tr th {\n",
              "        vertical-align: top;\n",
              "    }\n",
              "\n",
              "    .dataframe thead th {\n",
              "        text-align: right;\n",
              "    }\n",
              "</style>\n",
              "<table border=\"1\" class=\"dataframe\">\n",
              "  <thead>\n",
              "    <tr style=\"text-align: right;\">\n",
              "      <th></th>\n",
              "      <th>city</th>\n",
              "      <th>bd</th>\n",
              "      <th>registered_via</th>\n",
              "      <th>registration_init_time</th>\n",
              "      <th>expiration_date</th>\n",
              "    </tr>\n",
              "  </thead>\n",
              "  <tbody>\n",
              "    <tr>\n",
              "      <th>count</th>\n",
              "      <td>34403.000000</td>\n",
              "      <td>34403.000000</td>\n",
              "      <td>34403.000000</td>\n",
              "      <td>3.440300e+04</td>\n",
              "      <td>3.440300e+04</td>\n",
              "    </tr>\n",
              "    <tr>\n",
              "      <th>mean</th>\n",
              "      <td>5.371276</td>\n",
              "      <td>12.280935</td>\n",
              "      <td>5.953376</td>\n",
              "      <td>2.013994e+07</td>\n",
              "      <td>2.016901e+07</td>\n",
              "    </tr>\n",
              "    <tr>\n",
              "      <th>std</th>\n",
              "      <td>6.243929</td>\n",
              "      <td>18.170251</td>\n",
              "      <td>2.287534</td>\n",
              "      <td>2.954015e+04</td>\n",
              "      <td>7.320925e+03</td>\n",
              "    </tr>\n",
              "    <tr>\n",
              "      <th>min</th>\n",
              "      <td>1.000000</td>\n",
              "      <td>-43.000000</td>\n",
              "      <td>3.000000</td>\n",
              "      <td>2.004033e+07</td>\n",
              "      <td>1.970010e+07</td>\n",
              "    </tr>\n",
              "    <tr>\n",
              "      <th>25%</th>\n",
              "      <td>1.000000</td>\n",
              "      <td>0.000000</td>\n",
              "      <td>4.000000</td>\n",
              "      <td>2.012103e+07</td>\n",
              "      <td>2.017020e+07</td>\n",
              "    </tr>\n",
              "    <tr>\n",
              "      <th>50%</th>\n",
              "      <td>1.000000</td>\n",
              "      <td>0.000000</td>\n",
              "      <td>7.000000</td>\n",
              "      <td>2.015090e+07</td>\n",
              "      <td>2.017091e+07</td>\n",
              "    </tr>\n",
              "    <tr>\n",
              "      <th>75%</th>\n",
              "      <td>10.000000</td>\n",
              "      <td>25.000000</td>\n",
              "      <td>9.000000</td>\n",
              "      <td>2.016110e+07</td>\n",
              "      <td>2.017093e+07</td>\n",
              "    </tr>\n",
              "    <tr>\n",
              "      <th>max</th>\n",
              "      <td>22.000000</td>\n",
              "      <td>1051.000000</td>\n",
              "      <td>16.000000</td>\n",
              "      <td>2.017023e+07</td>\n",
              "      <td>2.020102e+07</td>\n",
              "    </tr>\n",
              "  </tbody>\n",
              "</table>\n",
              "</div>\n",
              "      <button class=\"colab-df-convert\" onclick=\"convertToInteractive('df-74c6ea76-1749-42ba-aead-20e2f9261398')\"\n",
              "              title=\"Convert this dataframe to an interactive table.\"\n",
              "              style=\"display:none;\">\n",
              "        \n",
              "  <svg xmlns=\"http://www.w3.org/2000/svg\" height=\"24px\"viewBox=\"0 0 24 24\"\n",
              "       width=\"24px\">\n",
              "    <path d=\"M0 0h24v24H0V0z\" fill=\"none\"/>\n",
              "    <path d=\"M18.56 5.44l.94 2.06.94-2.06 2.06-.94-2.06-.94-.94-2.06-.94 2.06-2.06.94zm-11 1L8.5 8.5l.94-2.06 2.06-.94-2.06-.94L8.5 2.5l-.94 2.06-2.06.94zm10 10l.94 2.06.94-2.06 2.06-.94-2.06-.94-.94-2.06-.94 2.06-2.06.94z\"/><path d=\"M17.41 7.96l-1.37-1.37c-.4-.4-.92-.59-1.43-.59-.52 0-1.04.2-1.43.59L10.3 9.45l-7.72 7.72c-.78.78-.78 2.05 0 2.83L4 21.41c.39.39.9.59 1.41.59.51 0 1.02-.2 1.41-.59l7.78-7.78 2.81-2.81c.8-.78.8-2.07 0-2.86zM5.41 20L4 18.59l7.72-7.72 1.47 1.35L5.41 20z\"/>\n",
              "  </svg>\n",
              "      </button>\n",
              "      \n",
              "  <style>\n",
              "    .colab-df-container {\n",
              "      display:flex;\n",
              "      flex-wrap:wrap;\n",
              "      gap: 12px;\n",
              "    }\n",
              "\n",
              "    .colab-df-convert {\n",
              "      background-color: #E8F0FE;\n",
              "      border: none;\n",
              "      border-radius: 50%;\n",
              "      cursor: pointer;\n",
              "      display: none;\n",
              "      fill: #1967D2;\n",
              "      height: 32px;\n",
              "      padding: 0 0 0 0;\n",
              "      width: 32px;\n",
              "    }\n",
              "\n",
              "    .colab-df-convert:hover {\n",
              "      background-color: #E2EBFA;\n",
              "      box-shadow: 0px 1px 2px rgba(60, 64, 67, 0.3), 0px 1px 3px 1px rgba(60, 64, 67, 0.15);\n",
              "      fill: #174EA6;\n",
              "    }\n",
              "\n",
              "    [theme=dark] .colab-df-convert {\n",
              "      background-color: #3B4455;\n",
              "      fill: #D2E3FC;\n",
              "    }\n",
              "\n",
              "    [theme=dark] .colab-df-convert:hover {\n",
              "      background-color: #434B5C;\n",
              "      box-shadow: 0px 1px 3px 1px rgba(0, 0, 0, 0.15);\n",
              "      filter: drop-shadow(0px 1px 2px rgba(0, 0, 0, 0.3));\n",
              "      fill: #FFFFFF;\n",
              "    }\n",
              "  </style>\n",
              "\n",
              "      <script>\n",
              "        const buttonEl =\n",
              "          document.querySelector('#df-74c6ea76-1749-42ba-aead-20e2f9261398 button.colab-df-convert');\n",
              "        buttonEl.style.display =\n",
              "          google.colab.kernel.accessAllowed ? 'block' : 'none';\n",
              "\n",
              "        async function convertToInteractive(key) {\n",
              "          const element = document.querySelector('#df-74c6ea76-1749-42ba-aead-20e2f9261398');\n",
              "          const dataTable =\n",
              "            await google.colab.kernel.invokeFunction('convertToInteractive',\n",
              "                                                     [key], {});\n",
              "          if (!dataTable) return;\n",
              "\n",
              "          const docLinkHtml = 'Like what you see? Visit the ' +\n",
              "            '<a target=\"_blank\" href=https://colab.research.google.com/notebooks/data_table.ipynb>data table notebook</a>'\n",
              "            + ' to learn more about interactive tables.';\n",
              "          element.innerHTML = '';\n",
              "          dataTable['output_type'] = 'display_data';\n",
              "          await google.colab.output.renderOutput(dataTable, element);\n",
              "          const docLink = document.createElement('div');\n",
              "          docLink.innerHTML = docLinkHtml;\n",
              "          element.appendChild(docLink);\n",
              "        }\n",
              "      </script>\n",
              "    </div>\n",
              "  </div>\n",
              "  "
            ]
          },
          "metadata": {},
          "execution_count": 12
        }
      ]
    },
    {
      "cell_type": "code",
      "source": [
        "members.tail()"
      ],
      "metadata": {
        "colab": {
          "base_uri": "https://localhost:8080/",
          "height": 270
        },
        "id": "zFLNH0BzPv8Z",
        "outputId": "50cfa969-a24e-4cab-b590-37fd7b0921ce"
      },
      "execution_count": null,
      "outputs": [
        {
          "output_type": "execute_result",
          "data": {
            "text/plain": [
              "                                               msno  city  bd gender  \\\n",
              "34398  Wwd/cudKVuLJ3txRVxlg2Zaeliu+LRUfiBmfrnxhRCY=     1   0    NaN   \n",
              "34399  g3JGnJX6Hg50lFbrNWfsHwCUmApIkiv2M8sXOaeXoIQ=     4  18   male   \n",
              "34400  IMaPMJuyN+ip9Vqi+z2XuXbFAP2kbHr+EvvCNkFfj+o=     1   0    NaN   \n",
              "34401  WAnCAJjUty9Stv8yKtV7ZC7PN+ilOy5FX3aIJgGPANM=     1   0    NaN   \n",
              "34402  xH8KpzKGeNNq6dOvy51c/8VzqOiGG+m6vabhsPSDHX4=     1   0    NaN   \n",
              "\n",
              "       registered_via  registration_init_time  expiration_date  \n",
              "34398               7                20131111         20170910  \n",
              "34399               3                20141024         20170518  \n",
              "34400               7                20130802         20170908  \n",
              "34401               7                20151020         20170920  \n",
              "34402               4                20160815         20160818  "
            ],
            "text/html": [
              "\n",
              "  <div id=\"df-51766d2d-f2fc-4664-a525-2735187c4d5f\">\n",
              "    <div class=\"colab-df-container\">\n",
              "      <div>\n",
              "<style scoped>\n",
              "    .dataframe tbody tr th:only-of-type {\n",
              "        vertical-align: middle;\n",
              "    }\n",
              "\n",
              "    .dataframe tbody tr th {\n",
              "        vertical-align: top;\n",
              "    }\n",
              "\n",
              "    .dataframe thead th {\n",
              "        text-align: right;\n",
              "    }\n",
              "</style>\n",
              "<table border=\"1\" class=\"dataframe\">\n",
              "  <thead>\n",
              "    <tr style=\"text-align: right;\">\n",
              "      <th></th>\n",
              "      <th>msno</th>\n",
              "      <th>city</th>\n",
              "      <th>bd</th>\n",
              "      <th>gender</th>\n",
              "      <th>registered_via</th>\n",
              "      <th>registration_init_time</th>\n",
              "      <th>expiration_date</th>\n",
              "    </tr>\n",
              "  </thead>\n",
              "  <tbody>\n",
              "    <tr>\n",
              "      <th>34398</th>\n",
              "      <td>Wwd/cudKVuLJ3txRVxlg2Zaeliu+LRUfiBmfrnxhRCY=</td>\n",
              "      <td>1</td>\n",
              "      <td>0</td>\n",
              "      <td>NaN</td>\n",
              "      <td>7</td>\n",
              "      <td>20131111</td>\n",
              "      <td>20170910</td>\n",
              "    </tr>\n",
              "    <tr>\n",
              "      <th>34399</th>\n",
              "      <td>g3JGnJX6Hg50lFbrNWfsHwCUmApIkiv2M8sXOaeXoIQ=</td>\n",
              "      <td>4</td>\n",
              "      <td>18</td>\n",
              "      <td>male</td>\n",
              "      <td>3</td>\n",
              "      <td>20141024</td>\n",
              "      <td>20170518</td>\n",
              "    </tr>\n",
              "    <tr>\n",
              "      <th>34400</th>\n",
              "      <td>IMaPMJuyN+ip9Vqi+z2XuXbFAP2kbHr+EvvCNkFfj+o=</td>\n",
              "      <td>1</td>\n",
              "      <td>0</td>\n",
              "      <td>NaN</td>\n",
              "      <td>7</td>\n",
              "      <td>20130802</td>\n",
              "      <td>20170908</td>\n",
              "    </tr>\n",
              "    <tr>\n",
              "      <th>34401</th>\n",
              "      <td>WAnCAJjUty9Stv8yKtV7ZC7PN+ilOy5FX3aIJgGPANM=</td>\n",
              "      <td>1</td>\n",
              "      <td>0</td>\n",
              "      <td>NaN</td>\n",
              "      <td>7</td>\n",
              "      <td>20151020</td>\n",
              "      <td>20170920</td>\n",
              "    </tr>\n",
              "    <tr>\n",
              "      <th>34402</th>\n",
              "      <td>xH8KpzKGeNNq6dOvy51c/8VzqOiGG+m6vabhsPSDHX4=</td>\n",
              "      <td>1</td>\n",
              "      <td>0</td>\n",
              "      <td>NaN</td>\n",
              "      <td>4</td>\n",
              "      <td>20160815</td>\n",
              "      <td>20160818</td>\n",
              "    </tr>\n",
              "  </tbody>\n",
              "</table>\n",
              "</div>\n",
              "      <button class=\"colab-df-convert\" onclick=\"convertToInteractive('df-51766d2d-f2fc-4664-a525-2735187c4d5f')\"\n",
              "              title=\"Convert this dataframe to an interactive table.\"\n",
              "              style=\"display:none;\">\n",
              "        \n",
              "  <svg xmlns=\"http://www.w3.org/2000/svg\" height=\"24px\"viewBox=\"0 0 24 24\"\n",
              "       width=\"24px\">\n",
              "    <path d=\"M0 0h24v24H0V0z\" fill=\"none\"/>\n",
              "    <path d=\"M18.56 5.44l.94 2.06.94-2.06 2.06-.94-2.06-.94-.94-2.06-.94 2.06-2.06.94zm-11 1L8.5 8.5l.94-2.06 2.06-.94-2.06-.94L8.5 2.5l-.94 2.06-2.06.94zm10 10l.94 2.06.94-2.06 2.06-.94-2.06-.94-.94-2.06-.94 2.06-2.06.94z\"/><path d=\"M17.41 7.96l-1.37-1.37c-.4-.4-.92-.59-1.43-.59-.52 0-1.04.2-1.43.59L10.3 9.45l-7.72 7.72c-.78.78-.78 2.05 0 2.83L4 21.41c.39.39.9.59 1.41.59.51 0 1.02-.2 1.41-.59l7.78-7.78 2.81-2.81c.8-.78.8-2.07 0-2.86zM5.41 20L4 18.59l7.72-7.72 1.47 1.35L5.41 20z\"/>\n",
              "  </svg>\n",
              "      </button>\n",
              "      \n",
              "  <style>\n",
              "    .colab-df-container {\n",
              "      display:flex;\n",
              "      flex-wrap:wrap;\n",
              "      gap: 12px;\n",
              "    }\n",
              "\n",
              "    .colab-df-convert {\n",
              "      background-color: #E8F0FE;\n",
              "      border: none;\n",
              "      border-radius: 50%;\n",
              "      cursor: pointer;\n",
              "      display: none;\n",
              "      fill: #1967D2;\n",
              "      height: 32px;\n",
              "      padding: 0 0 0 0;\n",
              "      width: 32px;\n",
              "    }\n",
              "\n",
              "    .colab-df-convert:hover {\n",
              "      background-color: #E2EBFA;\n",
              "      box-shadow: 0px 1px 2px rgba(60, 64, 67, 0.3), 0px 1px 3px 1px rgba(60, 64, 67, 0.15);\n",
              "      fill: #174EA6;\n",
              "    }\n",
              "\n",
              "    [theme=dark] .colab-df-convert {\n",
              "      background-color: #3B4455;\n",
              "      fill: #D2E3FC;\n",
              "    }\n",
              "\n",
              "    [theme=dark] .colab-df-convert:hover {\n",
              "      background-color: #434B5C;\n",
              "      box-shadow: 0px 1px 3px 1px rgba(0, 0, 0, 0.15);\n",
              "      filter: drop-shadow(0px 1px 2px rgba(0, 0, 0, 0.3));\n",
              "      fill: #FFFFFF;\n",
              "    }\n",
              "  </style>\n",
              "\n",
              "      <script>\n",
              "        const buttonEl =\n",
              "          document.querySelector('#df-51766d2d-f2fc-4664-a525-2735187c4d5f button.colab-df-convert');\n",
              "        buttonEl.style.display =\n",
              "          google.colab.kernel.accessAllowed ? 'block' : 'none';\n",
              "\n",
              "        async function convertToInteractive(key) {\n",
              "          const element = document.querySelector('#df-51766d2d-f2fc-4664-a525-2735187c4d5f');\n",
              "          const dataTable =\n",
              "            await google.colab.kernel.invokeFunction('convertToInteractive',\n",
              "                                                     [key], {});\n",
              "          if (!dataTable) return;\n",
              "\n",
              "          const docLinkHtml = 'Like what you see? Visit the ' +\n",
              "            '<a target=\"_blank\" href=https://colab.research.google.com/notebooks/data_table.ipynb>data table notebook</a>'\n",
              "            + ' to learn more about interactive tables.';\n",
              "          element.innerHTML = '';\n",
              "          dataTable['output_type'] = 'display_data';\n",
              "          await google.colab.output.renderOutput(dataTable, element);\n",
              "          const docLink = document.createElement('div');\n",
              "          docLink.innerHTML = docLinkHtml;\n",
              "          element.appendChild(docLink);\n",
              "        }\n",
              "      </script>\n",
              "    </div>\n",
              "  </div>\n",
              "  "
            ]
          },
          "metadata": {},
          "execution_count": 14
        }
      ]
    },
    {
      "cell_type": "code",
      "source": [
        "songs.tail()"
      ],
      "metadata": {
        "colab": {
          "base_uri": "https://localhost:8080/",
          "height": 392
        },
        "id": "sEbzfITxP5Ai",
        "outputId": "8f17ea98-c7d8-45cd-9538-b9768d51e02e"
      },
      "execution_count": null,
      "outputs": [
        {
          "output_type": "execute_result",
          "data": {
            "text/plain": [
              "                                              song_id  song_length genre_ids  \\\n",
              "2296315  lg6rn7eV/ZNg0+P+x77kHUL7GDMfoL4eMtXxncseLNA=        20192       958   \n",
              "2296316  nXi1lrSJe+gLoTTNky7If0mNPrIyCQCLwagwR6XopGU=       273391       465   \n",
              "2296317  9KxSvIjbJyJzfEVWnkMbgR6dyn6d54ot0N5FKyKqii8=       445172      1609   \n",
              "2296318  UO8Y2MR2sjOn2q/Tp8/lzZTGKmLEvwZ20oWanG4XnYc=       172669       465   \n",
              "2296319  V/9qPSUOGT0FeIGBhDIZRRz5Y5yyjdXC2Z/+bJExo5s=       270466       829   \n",
              "\n",
              "               artist_name                     composer lyricist  language  \n",
              "2296315  Catherine Collard  Robert Schumann (1810-1856)      NaN      -1.0  \n",
              "2296316  紀文惠 (Justine Chi)                          NaN      NaN       3.0  \n",
              "2296317    Various Artists                          NaN      NaN      52.0  \n",
              "2296318  Peter Paul & Mary                          NaN      NaN      52.0  \n",
              "2296319      Kim Robertson                          NaN      NaN      52.0  "
            ],
            "text/html": [
              "\n",
              "  <div id=\"df-fcd921f4-d87c-4f5d-98db-8b790d235b79\">\n",
              "    <div class=\"colab-df-container\">\n",
              "      <div>\n",
              "<style scoped>\n",
              "    .dataframe tbody tr th:only-of-type {\n",
              "        vertical-align: middle;\n",
              "    }\n",
              "\n",
              "    .dataframe tbody tr th {\n",
              "        vertical-align: top;\n",
              "    }\n",
              "\n",
              "    .dataframe thead th {\n",
              "        text-align: right;\n",
              "    }\n",
              "</style>\n",
              "<table border=\"1\" class=\"dataframe\">\n",
              "  <thead>\n",
              "    <tr style=\"text-align: right;\">\n",
              "      <th></th>\n",
              "      <th>song_id</th>\n",
              "      <th>song_length</th>\n",
              "      <th>genre_ids</th>\n",
              "      <th>artist_name</th>\n",
              "      <th>composer</th>\n",
              "      <th>lyricist</th>\n",
              "      <th>language</th>\n",
              "    </tr>\n",
              "  </thead>\n",
              "  <tbody>\n",
              "    <tr>\n",
              "      <th>2296315</th>\n",
              "      <td>lg6rn7eV/ZNg0+P+x77kHUL7GDMfoL4eMtXxncseLNA=</td>\n",
              "      <td>20192</td>\n",
              "      <td>958</td>\n",
              "      <td>Catherine Collard</td>\n",
              "      <td>Robert Schumann (1810-1856)</td>\n",
              "      <td>NaN</td>\n",
              "      <td>-1.0</td>\n",
              "    </tr>\n",
              "    <tr>\n",
              "      <th>2296316</th>\n",
              "      <td>nXi1lrSJe+gLoTTNky7If0mNPrIyCQCLwagwR6XopGU=</td>\n",
              "      <td>273391</td>\n",
              "      <td>465</td>\n",
              "      <td>紀文惠 (Justine Chi)</td>\n",
              "      <td>NaN</td>\n",
              "      <td>NaN</td>\n",
              "      <td>3.0</td>\n",
              "    </tr>\n",
              "    <tr>\n",
              "      <th>2296317</th>\n",
              "      <td>9KxSvIjbJyJzfEVWnkMbgR6dyn6d54ot0N5FKyKqii8=</td>\n",
              "      <td>445172</td>\n",
              "      <td>1609</td>\n",
              "      <td>Various Artists</td>\n",
              "      <td>NaN</td>\n",
              "      <td>NaN</td>\n",
              "      <td>52.0</td>\n",
              "    </tr>\n",
              "    <tr>\n",
              "      <th>2296318</th>\n",
              "      <td>UO8Y2MR2sjOn2q/Tp8/lzZTGKmLEvwZ20oWanG4XnYc=</td>\n",
              "      <td>172669</td>\n",
              "      <td>465</td>\n",
              "      <td>Peter Paul &amp; Mary</td>\n",
              "      <td>NaN</td>\n",
              "      <td>NaN</td>\n",
              "      <td>52.0</td>\n",
              "    </tr>\n",
              "    <tr>\n",
              "      <th>2296319</th>\n",
              "      <td>V/9qPSUOGT0FeIGBhDIZRRz5Y5yyjdXC2Z/+bJExo5s=</td>\n",
              "      <td>270466</td>\n",
              "      <td>829</td>\n",
              "      <td>Kim Robertson</td>\n",
              "      <td>NaN</td>\n",
              "      <td>NaN</td>\n",
              "      <td>52.0</td>\n",
              "    </tr>\n",
              "  </tbody>\n",
              "</table>\n",
              "</div>\n",
              "      <button class=\"colab-df-convert\" onclick=\"convertToInteractive('df-fcd921f4-d87c-4f5d-98db-8b790d235b79')\"\n",
              "              title=\"Convert this dataframe to an interactive table.\"\n",
              "              style=\"display:none;\">\n",
              "        \n",
              "  <svg xmlns=\"http://www.w3.org/2000/svg\" height=\"24px\"viewBox=\"0 0 24 24\"\n",
              "       width=\"24px\">\n",
              "    <path d=\"M0 0h24v24H0V0z\" fill=\"none\"/>\n",
              "    <path d=\"M18.56 5.44l.94 2.06.94-2.06 2.06-.94-2.06-.94-.94-2.06-.94 2.06-2.06.94zm-11 1L8.5 8.5l.94-2.06 2.06-.94-2.06-.94L8.5 2.5l-.94 2.06-2.06.94zm10 10l.94 2.06.94-2.06 2.06-.94-2.06-.94-.94-2.06-.94 2.06-2.06.94z\"/><path d=\"M17.41 7.96l-1.37-1.37c-.4-.4-.92-.59-1.43-.59-.52 0-1.04.2-1.43.59L10.3 9.45l-7.72 7.72c-.78.78-.78 2.05 0 2.83L4 21.41c.39.39.9.59 1.41.59.51 0 1.02-.2 1.41-.59l7.78-7.78 2.81-2.81c.8-.78.8-2.07 0-2.86zM5.41 20L4 18.59l7.72-7.72 1.47 1.35L5.41 20z\"/>\n",
              "  </svg>\n",
              "      </button>\n",
              "      \n",
              "  <style>\n",
              "    .colab-df-container {\n",
              "      display:flex;\n",
              "      flex-wrap:wrap;\n",
              "      gap: 12px;\n",
              "    }\n",
              "\n",
              "    .colab-df-convert {\n",
              "      background-color: #E8F0FE;\n",
              "      border: none;\n",
              "      border-radius: 50%;\n",
              "      cursor: pointer;\n",
              "      display: none;\n",
              "      fill: #1967D2;\n",
              "      height: 32px;\n",
              "      padding: 0 0 0 0;\n",
              "      width: 32px;\n",
              "    }\n",
              "\n",
              "    .colab-df-convert:hover {\n",
              "      background-color: #E2EBFA;\n",
              "      box-shadow: 0px 1px 2px rgba(60, 64, 67, 0.3), 0px 1px 3px 1px rgba(60, 64, 67, 0.15);\n",
              "      fill: #174EA6;\n",
              "    }\n",
              "\n",
              "    [theme=dark] .colab-df-convert {\n",
              "      background-color: #3B4455;\n",
              "      fill: #D2E3FC;\n",
              "    }\n",
              "\n",
              "    [theme=dark] .colab-df-convert:hover {\n",
              "      background-color: #434B5C;\n",
              "      box-shadow: 0px 1px 3px 1px rgba(0, 0, 0, 0.15);\n",
              "      filter: drop-shadow(0px 1px 2px rgba(0, 0, 0, 0.3));\n",
              "      fill: #FFFFFF;\n",
              "    }\n",
              "  </style>\n",
              "\n",
              "      <script>\n",
              "        const buttonEl =\n",
              "          document.querySelector('#df-fcd921f4-d87c-4f5d-98db-8b790d235b79 button.colab-df-convert');\n",
              "        buttonEl.style.display =\n",
              "          google.colab.kernel.accessAllowed ? 'block' : 'none';\n",
              "\n",
              "        async function convertToInteractive(key) {\n",
              "          const element = document.querySelector('#df-fcd921f4-d87c-4f5d-98db-8b790d235b79');\n",
              "          const dataTable =\n",
              "            await google.colab.kernel.invokeFunction('convertToInteractive',\n",
              "                                                     [key], {});\n",
              "          if (!dataTable) return;\n",
              "\n",
              "          const docLinkHtml = 'Like what you see? Visit the ' +\n",
              "            '<a target=\"_blank\" href=https://colab.research.google.com/notebooks/data_table.ipynb>data table notebook</a>'\n",
              "            + ' to learn more about interactive tables.';\n",
              "          element.innerHTML = '';\n",
              "          dataTable['output_type'] = 'display_data';\n",
              "          await google.colab.output.renderOutput(dataTable, element);\n",
              "          const docLink = document.createElement('div');\n",
              "          docLink.innerHTML = docLinkHtml;\n",
              "          element.appendChild(docLink);\n",
              "        }\n",
              "      </script>\n",
              "    </div>\n",
              "  </div>\n",
              "  "
            ]
          },
          "metadata": {},
          "execution_count": 15
        }
      ]
    },
    {
      "cell_type": "code",
      "source": [
        "train.tail()"
      ],
      "metadata": {
        "colab": {
          "base_uri": "https://localhost:8080/",
          "height": 270
        },
        "id": "PFZAUwMxQEn3",
        "outputId": "c8baad9c-4208-4413-97be-dff0a484f18e"
      },
      "execution_count": null,
      "outputs": [
        {
          "output_type": "execute_result",
          "data": {
            "text/plain": [
              "                                                msno  \\\n",
              "674805  6A7/1UnMGrCC6d5HJ3hUpHElF1jDXJsbmh3+5H3Yqps=   \n",
              "674806  6A7/1UnMGrCC6d5HJ3hUpHElF1jDXJsbmh3+5H3Yqps=   \n",
              "674807  6A7/1UnMGrCC6d5HJ3hUpHElF1jDXJsbmh3+5H3Yqps=   \n",
              "674808  6A7/1UnMGrCC6d5HJ3hUpHElF1jDXJsbmh3+5H3Yqps=   \n",
              "674809  6A7/1UnMGrCC6d5HJ3hUpHElF1jDXJsbmh3+5H3Yqps=   \n",
              "\n",
              "                                             song_id source_system_tab  \\\n",
              "674805  bkLczKZJe0xSTGRhanYGSxxtkpGaYKC0uvF8y+Yy+Vw=        my library   \n",
              "674806  6hh4mqWakMwaCrB6qthuK4gS/YAIe+Vg/APmYhZSA2k=        my library   \n",
              "674807  qrpm0M42GYJyt5Erm7QnDWpNKUM3WvhszyInIozUBiA=        my library   \n",
              "674808  +64wu2E+e23X/DkdBrnwAJIqskxZp+MxCxxVm8n1l+Y=        my library   \n",
              "674809  HuyLf5Z+vrIJGpQbU8UunZkuqn9xCuG3YV4o+e2XM6A=        my library   \n",
              "\n",
              "         source_screen_name     source_type  target  \n",
              "674805  Local playlist more  local-playlist     1.0  \n",
              "674806  Local playlist more  local-playlist     1.0  \n",
              "674807  Local playlist more  local-playlist     1.0  \n",
              "674808  Local playlist more  local-playlist     1.0  \n",
              "674809            Local pla             NaN     NaN  "
            ],
            "text/html": [
              "\n",
              "  <div id=\"df-7188ec9f-aac5-41de-9703-80142b3a21b5\">\n",
              "    <div class=\"colab-df-container\">\n",
              "      <div>\n",
              "<style scoped>\n",
              "    .dataframe tbody tr th:only-of-type {\n",
              "        vertical-align: middle;\n",
              "    }\n",
              "\n",
              "    .dataframe tbody tr th {\n",
              "        vertical-align: top;\n",
              "    }\n",
              "\n",
              "    .dataframe thead th {\n",
              "        text-align: right;\n",
              "    }\n",
              "</style>\n",
              "<table border=\"1\" class=\"dataframe\">\n",
              "  <thead>\n",
              "    <tr style=\"text-align: right;\">\n",
              "      <th></th>\n",
              "      <th>msno</th>\n",
              "      <th>song_id</th>\n",
              "      <th>source_system_tab</th>\n",
              "      <th>source_screen_name</th>\n",
              "      <th>source_type</th>\n",
              "      <th>target</th>\n",
              "    </tr>\n",
              "  </thead>\n",
              "  <tbody>\n",
              "    <tr>\n",
              "      <th>674805</th>\n",
              "      <td>6A7/1UnMGrCC6d5HJ3hUpHElF1jDXJsbmh3+5H3Yqps=</td>\n",
              "      <td>bkLczKZJe0xSTGRhanYGSxxtkpGaYKC0uvF8y+Yy+Vw=</td>\n",
              "      <td>my library</td>\n",
              "      <td>Local playlist more</td>\n",
              "      <td>local-playlist</td>\n",
              "      <td>1.0</td>\n",
              "    </tr>\n",
              "    <tr>\n",
              "      <th>674806</th>\n",
              "      <td>6A7/1UnMGrCC6d5HJ3hUpHElF1jDXJsbmh3+5H3Yqps=</td>\n",
              "      <td>6hh4mqWakMwaCrB6qthuK4gS/YAIe+Vg/APmYhZSA2k=</td>\n",
              "      <td>my library</td>\n",
              "      <td>Local playlist more</td>\n",
              "      <td>local-playlist</td>\n",
              "      <td>1.0</td>\n",
              "    </tr>\n",
              "    <tr>\n",
              "      <th>674807</th>\n",
              "      <td>6A7/1UnMGrCC6d5HJ3hUpHElF1jDXJsbmh3+5H3Yqps=</td>\n",
              "      <td>qrpm0M42GYJyt5Erm7QnDWpNKUM3WvhszyInIozUBiA=</td>\n",
              "      <td>my library</td>\n",
              "      <td>Local playlist more</td>\n",
              "      <td>local-playlist</td>\n",
              "      <td>1.0</td>\n",
              "    </tr>\n",
              "    <tr>\n",
              "      <th>674808</th>\n",
              "      <td>6A7/1UnMGrCC6d5HJ3hUpHElF1jDXJsbmh3+5H3Yqps=</td>\n",
              "      <td>+64wu2E+e23X/DkdBrnwAJIqskxZp+MxCxxVm8n1l+Y=</td>\n",
              "      <td>my library</td>\n",
              "      <td>Local playlist more</td>\n",
              "      <td>local-playlist</td>\n",
              "      <td>1.0</td>\n",
              "    </tr>\n",
              "    <tr>\n",
              "      <th>674809</th>\n",
              "      <td>6A7/1UnMGrCC6d5HJ3hUpHElF1jDXJsbmh3+5H3Yqps=</td>\n",
              "      <td>HuyLf5Z+vrIJGpQbU8UunZkuqn9xCuG3YV4o+e2XM6A=</td>\n",
              "      <td>my library</td>\n",
              "      <td>Local pla</td>\n",
              "      <td>NaN</td>\n",
              "      <td>NaN</td>\n",
              "    </tr>\n",
              "  </tbody>\n",
              "</table>\n",
              "</div>\n",
              "      <button class=\"colab-df-convert\" onclick=\"convertToInteractive('df-7188ec9f-aac5-41de-9703-80142b3a21b5')\"\n",
              "              title=\"Convert this dataframe to an interactive table.\"\n",
              "              style=\"display:none;\">\n",
              "        \n",
              "  <svg xmlns=\"http://www.w3.org/2000/svg\" height=\"24px\"viewBox=\"0 0 24 24\"\n",
              "       width=\"24px\">\n",
              "    <path d=\"M0 0h24v24H0V0z\" fill=\"none\"/>\n",
              "    <path d=\"M18.56 5.44l.94 2.06.94-2.06 2.06-.94-2.06-.94-.94-2.06-.94 2.06-2.06.94zm-11 1L8.5 8.5l.94-2.06 2.06-.94-2.06-.94L8.5 2.5l-.94 2.06-2.06.94zm10 10l.94 2.06.94-2.06 2.06-.94-2.06-.94-.94-2.06-.94 2.06-2.06.94z\"/><path d=\"M17.41 7.96l-1.37-1.37c-.4-.4-.92-.59-1.43-.59-.52 0-1.04.2-1.43.59L10.3 9.45l-7.72 7.72c-.78.78-.78 2.05 0 2.83L4 21.41c.39.39.9.59 1.41.59.51 0 1.02-.2 1.41-.59l7.78-7.78 2.81-2.81c.8-.78.8-2.07 0-2.86zM5.41 20L4 18.59l7.72-7.72 1.47 1.35L5.41 20z\"/>\n",
              "  </svg>\n",
              "      </button>\n",
              "      \n",
              "  <style>\n",
              "    .colab-df-container {\n",
              "      display:flex;\n",
              "      flex-wrap:wrap;\n",
              "      gap: 12px;\n",
              "    }\n",
              "\n",
              "    .colab-df-convert {\n",
              "      background-color: #E8F0FE;\n",
              "      border: none;\n",
              "      border-radius: 50%;\n",
              "      cursor: pointer;\n",
              "      display: none;\n",
              "      fill: #1967D2;\n",
              "      height: 32px;\n",
              "      padding: 0 0 0 0;\n",
              "      width: 32px;\n",
              "    }\n",
              "\n",
              "    .colab-df-convert:hover {\n",
              "      background-color: #E2EBFA;\n",
              "      box-shadow: 0px 1px 2px rgba(60, 64, 67, 0.3), 0px 1px 3px 1px rgba(60, 64, 67, 0.15);\n",
              "      fill: #174EA6;\n",
              "    }\n",
              "\n",
              "    [theme=dark] .colab-df-convert {\n",
              "      background-color: #3B4455;\n",
              "      fill: #D2E3FC;\n",
              "    }\n",
              "\n",
              "    [theme=dark] .colab-df-convert:hover {\n",
              "      background-color: #434B5C;\n",
              "      box-shadow: 0px 1px 3px 1px rgba(0, 0, 0, 0.15);\n",
              "      filter: drop-shadow(0px 1px 2px rgba(0, 0, 0, 0.3));\n",
              "      fill: #FFFFFF;\n",
              "    }\n",
              "  </style>\n",
              "\n",
              "      <script>\n",
              "        const buttonEl =\n",
              "          document.querySelector('#df-7188ec9f-aac5-41de-9703-80142b3a21b5 button.colab-df-convert');\n",
              "        buttonEl.style.display =\n",
              "          google.colab.kernel.accessAllowed ? 'block' : 'none';\n",
              "\n",
              "        async function convertToInteractive(key) {\n",
              "          const element = document.querySelector('#df-7188ec9f-aac5-41de-9703-80142b3a21b5');\n",
              "          const dataTable =\n",
              "            await google.colab.kernel.invokeFunction('convertToInteractive',\n",
              "                                                     [key], {});\n",
              "          if (!dataTable) return;\n",
              "\n",
              "          const docLinkHtml = 'Like what you see? Visit the ' +\n",
              "            '<a target=\"_blank\" href=https://colab.research.google.com/notebooks/data_table.ipynb>data table notebook</a>'\n",
              "            + ' to learn more about interactive tables.';\n",
              "          element.innerHTML = '';\n",
              "          dataTable['output_type'] = 'display_data';\n",
              "          await google.colab.output.renderOutput(dataTable, element);\n",
              "          const docLink = document.createElement('div');\n",
              "          docLink.innerHTML = docLinkHtml;\n",
              "          element.appendChild(docLink);\n",
              "        }\n",
              "      </script>\n",
              "    </div>\n",
              "  </div>\n",
              "  "
            ]
          },
          "metadata": {},
          "execution_count": 16
        }
      ]
    },
    {
      "cell_type": "code",
      "source": [
        "train.shape"
      ],
      "metadata": {
        "colab": {
          "base_uri": "https://localhost:8080/"
        },
        "id": "jDdYVFEnQImz",
        "outputId": "58dc0376-0950-474a-9b47-7107b81ab302"
      },
      "execution_count": null,
      "outputs": [
        {
          "output_type": "execute_result",
          "data": {
            "text/plain": [
              "(674810, 6)"
            ]
          },
          "metadata": {},
          "execution_count": 17
        }
      ]
    },
    {
      "cell_type": "code",
      "source": [
        "songs.shape"
      ],
      "metadata": {
        "colab": {
          "base_uri": "https://localhost:8080/"
        },
        "id": "ci3SmHlBQXWU",
        "outputId": "c6bcd150-d6c4-481f-9164-42364e830784"
      },
      "execution_count": null,
      "outputs": [
        {
          "output_type": "execute_result",
          "data": {
            "text/plain": [
              "(2296320, 7)"
            ]
          },
          "metadata": {},
          "execution_count": 18
        }
      ]
    },
    {
      "cell_type": "code",
      "source": [
        "members.shape"
      ],
      "metadata": {
        "colab": {
          "base_uri": "https://localhost:8080/"
        },
        "id": "mlQKFvcVQqNw",
        "outputId": "86b72b46-38de-4bc9-b102-2416329ec2b8"
      },
      "execution_count": null,
      "outputs": [
        {
          "output_type": "execute_result",
          "data": {
            "text/plain": [
              "(34403, 7)"
            ]
          },
          "metadata": {},
          "execution_count": 19
        }
      ]
    },
    {
      "cell_type": "markdown",
      "source": [
        "# DATA VISUALIZATION"
      ],
      "metadata": {
        "id": "ymW2x9GWQxUc"
      }
    },
    {
      "cell_type": "code",
      "source": [
        "plt.figure(figsize=(20,10))\n",
        "sns.countplot(x='source_system_tab', hue='source_system_tab', data=train)"
      ],
      "metadata": {
        "colab": {
          "base_uri": "https://localhost:8080/",
          "height": 501
        },
        "id": "536GoVS2Q8Wa",
        "outputId": "e0d74979-316a-41b3-807b-8f9843da9852"
      },
      "execution_count": null,
      "outputs": [
        {
          "output_type": "execute_result",
          "data": {
            "text/plain": [
              "<matplotlib.axes._subplots.AxesSubplot at 0x7f0ff4083bd0>"
            ]
          },
          "metadata": {},
          "execution_count": 20
        },
        {
          "output_type": "display_data",
          "data": {
            "text/plain": [
              "<Figure size 1440x720 with 1 Axes>"
            ],
            "image/png": "[encoded data removed]"
          },
          "metadata": {
            "needs_background": "light"
          }
        }
      ]
    },
    {
      "cell_type": "code",
      "source": [
        "plt.figure(figsize=(20,10))\n",
        "sns.countplot(x='source_system_tab', hue='target', data=train)"
      ],
      "metadata": {
        "colab": {
          "base_uri": "https://localhost:8080/",
          "height": 501
        },
        "id": "94M1QbuCRQ4O",
        "outputId": "37349d30-195d-4ad5-ecbf-fd11e474ad0d"
      },
      "execution_count": null,
      "outputs": [
        {
          "output_type": "execute_result",
          "data": {
            "text/plain": [
              "<matplotlib.axes._subplots.AxesSubplot at 0x7f0ff4082910>"
            ]
          },
          "metadata": {},
          "execution_count": 21
        },
        {
          "output_type": "display_data",
          "data": {
            "text/plain": [
              "<Figure size 1440x720 with 1 Axes>"
            ],
            "image/png": "[encoded data removed]"
          },
          "metadata": {
            "needs_background": "light"
          }
        }
      ]
    },
    {
      "cell_type": "code",
      "source": [
        "plt.figure(figsize=(20,10))\n",
        "plt.xticks(rotation=90)\n",
        "sns.countplot(x='source_screen_name', hue='target',data=train)"
      ],
      "metadata": {
        "colab": {
          "base_uri": "https://localhost:8080/",
          "height": 573
        },
        "id": "-NntKAjQSg52",
        "outputId": "4420e663-35ff-4854-c8d9-a966a6c022fa"
      },
      "execution_count": null,
      "outputs": [
        {
          "output_type": "execute_result",
          "data": {
            "text/plain": [
              "<matplotlib.axes._subplots.AxesSubplot at 0x7f0ff39799d0>"
            ]
          },
          "metadata": {},
          "execution_count": 22
        },
        {
          "output_type": "display_data",
          "data": {
            "text/plain": [
              "<Figure size 1440x720 with 1 Axes>"
            ],
            "image/png": "[encoded data removed]"
          },
          "metadata": {
            "needs_background": "light"
          }
        }
      ]
    },
    {
      "cell_type": "code",
      "source": [
        "plt.figure(figsize=(20,10))\n",
        "plt.xticks(rotation=90)\n",
        "sns.countplot(x='source_type', hue='source_type',data=train)"
      ],
      "metadata": {
        "colab": {
          "base_uri": "https://localhost:8080/",
          "height": 572
        },
        "id": "HimR95tTSoBP",
        "outputId": "40daacc3-6179-4974-c334-ca055b22b3a0"
      },
      "execution_count": null,
      "outputs": [
        {
          "output_type": "execute_result",
          "data": {
            "text/plain": [
              "<matplotlib.axes._subplots.AxesSubplot at 0x7f0ff380ead0>"
            ]
          },
          "metadata": {},
          "execution_count": 23
        },
        {
          "output_type": "display_data",
          "data": {
            "text/plain": [
              "<Figure size 1440x720 with 1 Axes>"
            ],
            "image/png": "[encoded data removed]"
          },
          "metadata": {
            "needs_background": "light"
          }
        }
      ]
    },
    {
      "cell_type": "code",
      "source": [
        "plt.figure(figsize=(20,10))\n",
        "plt.xticks(rotation=90)\n",
        "sns.countplot(x='source_type', hue='target',data=train)"
      ],
      "metadata": {
        "colab": {
          "base_uri": "https://localhost:8080/",
          "height": 572
        },
        "id": "u9k19Y4uTCIT",
        "outputId": "4e62806d-ce0b-4c9d-82d5-23bbbe10f63e"
      },
      "execution_count": null,
      "outputs": [
        {
          "output_type": "execute_result",
          "data": {
            "text/plain": [
              "<matplotlib.axes._subplots.AxesSubplot at 0x7f0ff36754d0>"
            ]
          },
          "metadata": {},
          "execution_count": 24
        },
        {
          "output_type": "display_data",
          "data": {
            "text/plain": [
              "<Figure size 1440x720 with 1 Axes>"
            ],
            "image/png": "[encoded data removed]"
          },
          "metadata": {
            "needs_background": "light"
          }
        }
      ]
    },
    {
      "cell_type": "code",
      "source": [
        "plt.figure(figsize=(20,10))\n",
        "sns.countplot(x='language', hue='language',data=songs)"
      ],
      "metadata": {
        "colab": {
          "base_uri": "https://localhost:8080/",
          "height": 518
        },
        "id": "_o2cbFCxTPCN",
        "outputId": "3c63f808-639b-4fa9-8c67-232b3fdbfede"
      },
      "execution_count": null,
      "outputs": [
        {
          "output_type": "execute_result",
          "data": {
            "text/plain": [
              "<matplotlib.axes._subplots.AxesSubplot at 0x7f0ff3645a10>"
            ]
          },
          "metadata": {},
          "execution_count": 25
        },
        {
          "output_type": "display_data",
          "data": {
            "text/plain": [
              "<Figure size 1440x720 with 1 Axes>"
            ],
            "image/png": "[encoded data removed]"
          },
          "metadata": {
            "needs_background": "light"
          }
        }
      ]
    },
    {
      "cell_type": "code",
      "source": [
        "plt.figure(figsize=(20,10))\n",
        "sns.countplot(x='registered_via', hue='registered_via',data=members)"
      ],
      "metadata": {
        "colab": {
          "base_uri": "https://localhost:8080/",
          "height": 504
        },
        "id": "hrsrAMphTWWc",
        "outputId": "f5b16b17-a192-413f-a0e8-7f799d40cdd7"
      },
      "execution_count": null,
      "outputs": [
        {
          "output_type": "execute_result",
          "data": {
            "text/plain": [
              "<matplotlib.axes._subplots.AxesSubplot at 0x7f0ff33a3590>"
            ]
          },
          "metadata": {},
          "execution_count": 26
        },
        {
          "output_type": "display_data",
          "data": {
            "text/plain": [
              "<Figure size 1440x720 with 1 Axes>"
            ],
            "image/png": "[encoded data removed]"
          },
          "metadata": {
            "needs_background": "light"
          }
        }
      ]
    },
    {
      "cell_type": "markdown",
      "source": [
        "# DATA CLEANING"
      ],
      "metadata": {
        "id": "BcOImuEJTupX"
      }
    },
    {
      "cell_type": "code",
      "source": [
        "ntr = 7000\n",
        "nts = 3000\n",
        "names=['msno','song_id','source_system_tab','source_screen_name','source_type','target']\n",
        "test1 = pd.read_csv('/content/drive/MyDrive/DATASET/train.csv',names=names,skiprows=ntr,nrows=nts)"
      ],
      "metadata": {
        "id": "5lfAhF_oThIZ"
      },
      "execution_count": null,
      "outputs": []
    },
    {
      "cell_type": "code",
      "source": [
        "test = test1.drop(['target'],axis=1)\n",
        "ytr = np.array(test1['target'])"
      ],
      "metadata": {
        "id": "WNT600jsUDeR"
      },
      "execution_count": null,
      "outputs": []
    },
    {
      "cell_type": "code",
      "source": [
        "test_name = ['id','msno','song_id','source_system_tab','source_screen_name','source_type']\n",
        "test['id']=np.arange(nts)\n",
        "test = test[test_name]"
      ],
      "metadata": {
        "id": "l8op7ZC-UH5S"
      },
      "execution_count": null,
      "outputs": []
    },
    {
      "cell_type": "code",
      "source": [
        "song_cols = ['song_id', 'artist_name', 'genre_ids', 'song_length', 'language']\n",
        "train = train.merge(songs[song_cols], on='song_id', how='left')\n",
        "test = test.merge(songs[song_cols], on='song_id', how='left')"
      ],
      "metadata": {
        "id": "P6DVZH9EULsQ"
      },
      "execution_count": null,
      "outputs": []
    },
    {
      "cell_type": "code",
      "source": [
        "members['registration_year'] = members['registration_init_time'].apply(lambda x: int(str(x)[0:4]))\n",
        "members['registration_month'] = members['registration_init_time'].apply(lambda x: int(str(x)[4:6]))\n",
        "members['registration_date'] = members['registration_init_time'].apply(lambda x: int(str(x)[6:8]))"
      ],
      "metadata": {
        "id": "j9OXeUQMUQix"
      },
      "execution_count": null,
      "outputs": []
    },
    {
      "cell_type": "code",
      "source": [
        "members['expiration_year'] = members['expiration_date'].apply(lambda x: int(str(x)[0:4]))\n",
        "members['expiration_month'] = members['expiration_date'].apply(lambda x: int(str(x)[4:6]))\n",
        "members['expiration_date'] = members['expiration_date'].apply(lambda x: int(str(x)[6:8]))\n",
        "members = members.drop(['registration_init_time'], axis=1)"
      ],
      "metadata": {
        "id": "Wcz-mwySUXQH"
      },
      "execution_count": null,
      "outputs": []
    },
    {
      "cell_type": "code",
      "source": [
        "members_cols = members.columns\n",
        "train = train.merge(members[members_cols], on='msno', how='left')\n",
        "test = test.merge(members[members_cols], on='msno', how='left')"
      ],
      "metadata": {
        "id": "dsMxhoSPUbz_"
      },
      "execution_count": null,
      "outputs": []
    },
    {
      "cell_type": "code",
      "source": [
        "train = train.fillna(-1)\n",
        "test = test.fillna(-1)"
      ],
      "metadata": {
        "id": "Kf2WOiWAUg6e"
      },
      "execution_count": null,
      "outputs": []
    },
    {
      "cell_type": "code",
      "source": [
        "import gc\n",
        "del members, songs; gc.collect();"
      ],
      "metadata": {
        "id": "PzqIzGKcUltI"
      },
      "execution_count": null,
      "outputs": []
    },
    {
      "cell_type": "code",
      "source": [
        "cols = list(train.columns)\n",
        "cols.remove('target')"
      ],
      "metadata": {
        "id": "_T_BhmlBUpOW"
      },
      "execution_count": null,
      "outputs": []
    },
    {
      "cell_type": "code",
      "source": [
        "from tqdm import tqdm\n",
        "from sklearn.preprocessing import LabelEncoder\n",
        "for col in tqdm(cols):\n",
        "    if train[col].dtype == 'object':\n",
        "        train[col] = train[col].apply(str)\n",
        "        test[col] = test[col].apply(str)\n",
        "\n",
        "        le = LabelEncoder()\n",
        "        train_vals = list(train[col].unique())\n",
        "        test_vals = list(test[col].unique())\n",
        "        le.fit(train_vals + test_vals)\n",
        "        train[col] = le.transform(train[col])\n",
        "        test[col] = le.transform(test[col])"
      ],
      "metadata": {
        "colab": {
          "base_uri": "https://localhost:8080/"
        },
        "id": "K4lYspqcUxHk",
        "outputId": "3c3be572-43f6-444b-b69b-789911e26f53"
      },
      "execution_count": null,
      "outputs": [
        {
          "output_type": "stream",
          "name": "stderr",
          "text": [
            "100%|██████████| 19/19 [00:03<00:00,  5.25it/s]\n"
          ]
        }
      ]
    },
    {
      "cell_type": "code",
      "source": [
        "unique_songs = range(max(train['song_id'].max(), test['song_id'].max()))\n",
        "song_popularity = pd.DataFrame({'song_id': unique_songs, 'popularity':0})\n",
        "train_sorted = train.sort_values('song_id')\n",
        "train_sorted.reset_index(drop=True, inplace=True)\n",
        "test_sorted = test.sort_values('song_id')\n",
        "test_sorted.reset_index(drop=True, inplace=True)"
      ],
      "metadata": {
        "id": "-xy5eo4CU2ig"
      },
      "execution_count": null,
      "outputs": []
    },
    {
      "cell_type": "markdown",
      "source": [
        "# BUILDING THE MODEL"
      ],
      "metadata": {
        "id": "6qwQ88ThVlXg"
      }
    },
    {
      "cell_type": "code",
      "source": [
        "pip install lightgbm"
      ],
      "metadata": {
        "colab": {
          "base_uri": "https://localhost:8080/"
        },
        "id": "bKJIrTN2VitM",
        "outputId": "b933c510-4e24-45f7-fde3-af40cfe9f825"
      },
      "execution_count": null,
      "outputs": [
        {
          "output_type": "stream",
          "name": "stdout",
          "text": [
            "Looking in indexes: https://pypi.org/simple, https://us-python.pkg.dev/colab-wheels/public/simple/\n",
            "Requirement already satisfied: lightgbm in /usr/local/lib/python3.7/dist-packages (2.2.3)\n",
            "Requirement already satisfied: scikit-learn in /usr/local/lib/python3.7/dist-packages (from lightgbm) (1.0.2)\n",
            "Requirement already satisfied: numpy in /usr/local/lib/python3.7/dist-packages (from lightgbm) (1.21.6)\n",
            "Requirement already satisfied: scipy in /usr/local/lib/python3.7/dist-packages (from lightgbm) (1.7.3)\n",
            "Requirement already satisfied: joblib>=0.11 in /usr/local/lib/python3.7/dist-packages (from scikit-learn->lightgbm) (1.1.0)\n",
            "Requirement already satisfied: threadpoolctl>=2.0.0 in /usr/local/lib/python3.7/dist-packages (from scikit-learn->lightgbm) (3.1.0)\n"
          ]
        }
      ]
    },
    {
      "cell_type": "code",
      "source": [
        "from sklearn.model_selection import train_test_split\n",
        "import lightgbm as lgb\n",
        "X = np.array(train.drop(['target'], axis=1))\n",
        "y = train['target'].values\n",
        "\n",
        "X_test = np.array(test.drop(['id'], axis=1))\n",
        "ids = test['id'].values\n",
        "\n",
        "del train, test; gc.collect();\n",
        "\n",
        "X_train, X_valid, y_train, y_valid = train_test_split(X, y, test_size=0.1, random_state = 12)\n",
        "    \n",
        "del X, y; gc.collect();\n",
        "\n",
        "d_train = lgb.Dataset(X_train, label=y_train)\n",
        "d_valid = lgb.Dataset(X_valid, label=y_valid) \n",
        "\n",
        "watchlist = [d_train, d_valid]"
      ],
      "metadata": {
        "id": "zidHbO_tVyCd"
      },
      "execution_count": null,
      "outputs": []
    },
    {
      "cell_type": "markdown",
      "source": [
        "# PREDICTION USING LOGISTIC REGRESSION"
      ],
      "metadata": {
        "id": "c_-XayewYqcC"
      }
    },
    {
      "cell_type": "code",
      "source": [
        "def predict(m1_model):\n",
        "    model = m1_model.fit(X_train,y_train)\n",
        "    print('Training Score : {}'.format(model.score(X_train,y_train)))\n",
        "    y_pred = model.predict(X_valid)\n",
        "    v_test = model.predict(X_test)\n",
        "    yhat = (v_test>0.5).astype(int)\n",
        "    comp = (yhat==ytr).astype(int)\n",
        "    acc = comp.sum()/comp.size*100\n",
        "    print(\"Accuracy on test data for the model\", acc)"
      ],
      "metadata": {
        "id": "xGbhzmNXV2wa"
      },
      "execution_count": null,
      "outputs": []
    },
    {
      "cell_type": "code",
      "source": [
        "from sklearn.linear_model import LogisticRegression"
      ],
      "metadata": {
        "id": "AjVvDfhzV899"
      },
      "execution_count": null,
      "outputs": []
    },
    {
      "cell_type": "code",
      "source": [
        "predict(LogisticRegression())"
      ],
      "metadata": {
        "colab": {
          "base_uri": "https://localhost:8080/"
        },
        "id": "i924R7s6WIsU",
        "outputId": "31bffa6d-e986-4858-f65f-96249182754d"
      },
      "execution_count": null,
      "outputs": [
        {
          "output_type": "stream",
          "name": "stdout",
          "text": [
            "Training Score : 0.7139474650477747\n",
            "Accuracy on test data for the model 74.9\n"
          ]
        }
      ]
    },
    {
      "cell_type": "markdown",
      "source": [
        "# PREDICTION USING LIGHTGBM"
      ],
      "metadata": {
        "id": "a_Cx_RnxWV0b"
      }
    },
    {
      "cell_type": "code",
      "source": [
        "params = {}\n",
        "params['learning_rate'] = 0.4\n",
        "params['application'] = 'binary'\n",
        "params['max_depth'] = 15\n",
        "params['num_leaves'] = 2**8\n",
        "params['verbosity'] = 0\n",
        "params['metric'] = 'auc'\n",
        "\n",
        "model1 = lgb.train(params, train_set=d_train, num_boost_round=200, valid_sets=watchlist, early_stopping_rounds=10, verbose_eval=10)"
      ],
      "metadata": {
        "colab": {
          "base_uri": "https://localhost:8080/"
        },
        "id": "QoV0UZtUWSqR",
        "outputId": "da65d864-c9be-4379-a7e4-ce24a991e809"
      },
      "execution_count": null,
      "outputs": [
        {
          "output_type": "stream",
          "name": "stdout",
          "text": [
            "Training until validation scores don't improve for 10 rounds.\n",
            "[10]\ttraining's auc: 0.820248\tvalid_1's auc: 0.807488\n",
            "[20]\ttraining's auc: 0.851918\tvalid_1's auc: 0.835112\n",
            "[30]\ttraining's auc: 0.866686\tvalid_1's auc: 0.845539\n",
            "[40]\ttraining's auc: 0.879231\tvalid_1's auc: 0.853755\n",
            "[50]\ttraining's auc: 0.887547\tvalid_1's auc: 0.856673\n",
            "[60]\ttraining's auc: 0.89534\tvalid_1's auc: 0.860268\n",
            "[70]\ttraining's auc: 0.902167\tvalid_1's auc: 0.863513\n",
            "[80]\ttraining's auc: 0.908078\tvalid_1's auc: 0.865657\n",
            "[90]\ttraining's auc: 0.91291\tvalid_1's auc: 0.86659\n",
            "[100]\ttraining's auc: 0.917719\tvalid_1's auc: 0.867053\n",
            "[110]\ttraining's auc: 0.922767\tvalid_1's auc: 0.869064\n",
            "Early stopping, best iteration is:\n",
            "[109]\ttraining's auc: 0.922352\tvalid_1's auc: 0.869137\n"
          ]
        }
      ]
    },
    {
      "cell_type": "code",
      "source": [
        "p_test = model1.predict(X_test)"
      ],
      "metadata": {
        "id": "--eCgSWCWuJL"
      },
      "execution_count": null,
      "outputs": []
    },
    {
      "cell_type": "code",
      "source": [
        "yhat = (p_test>0.5).astype(int)\n",
        "comp = (yhat==ytr).astype(int)\n",
        "acc = comp.sum()/comp.size*100\n",
        "print('The accuracy of lgbm model on test data is: {0:f}%'.format(acc))"
      ],
      "metadata": {
        "colab": {
          "base_uri": "https://localhost:8080/"
        },
        "id": "KEt9MjnZWycm",
        "outputId": "596f629b-c5bb-4ee7-acd3-83cc7ca6718a"
      },
      "execution_count": null,
      "outputs": [
        {
          "output_type": "stream",
          "name": "stdout",
          "text": [
            "The accuracy of lgbm model on test data is: 87.500000%\n"
          ]
        }
      ]
    },
    {
      "cell_type": "markdown",
      "source": [
        "**CONCLUSION:**\n",
        "\n",
        "The accuracy of logistic regression model is 74.9%\n",
        "\n",
        "The accuracy of lgbm model is 87.50%\n",
        "\n",
        "Hence, we conclude that lgbm model is better than logistic regression model\n"
      ],
      "metadata": {
        "id": "E5Pu-IgtYJVz"
      }
    }
  ]
}